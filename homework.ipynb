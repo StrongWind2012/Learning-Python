{
 "cells": [
  {
   "cell_type": "markdown",
   "id": "6376e855-1057-4a8c-a32a-2dd608a6c4df",
   "metadata": {},
   "source": [
    "# This is an <h1>\n",
    "## This is an <h2>\n",
    "### This is an <h3>\n",
    "#### This is an <h4>\n",
    "##### This is an <h5>\n",
    "###### This is an <h6>"
   ]
  },
  {
   "cell_type": "markdown",
   "id": "f0920f63-cd04-43a4-ab1f-c53ab710351e",
   "metadata": {},
   "source": [
    "* Item\n",
    "* Item\n",
    "* Another item\n",
    "\n",
    "or\n",
    "\n",
    "+ Item\n",
    "+ Item\n",
    "+ One more item\n",
    "\n",
    "or\n",
    "\n",
    "- Item\n",
    "- Item\n",
    "- One last item"
   ]
  },
  {
   "cell_type": "markdown",
   "id": "8aadc335-a618-4916-b59e-82b9b0f61d63",
   "metadata": {},
   "source": [
    "This is a paragraph. I'm typing in a paragraph isn't this fun?\n",
    "\n",
    "Now I'm in paragraph 2.\n",
    "I'm still in paragraph 2 too!\n",
    "\n",
    "\n",
    "I'm in paragraph three!"
   ]
  },
  {
   "cell_type": "markdown",
   "id": "79779eb8-dc5a-4d10-ba3a-dfef8c90d09a",
   "metadata": {},
   "source": [
    "> This is a block quote. You can either\n",
    "> manually wrap your lines and put a `>` before every line or you can let your lines get really long and wrap on their own.\n",
    "> It doesn't make a difference so long as they start with a `>`.\n",
    "\n",
    "> You can also use more than one level\n",
    ">> of indentation?\n",
    "> How neat is that?"
   ]
  },
  {
   "cell_type": "markdown",
   "id": "100d5fe8-297b-40fd-92f4-6394a7e1bc67",
   "metadata": {},
   "source": [
    "I end with two spaces (highlight me to see them).\n",
    "\n",
    "There's a <br /> above me!"
   ]
  },
  {
   "cell_type": "markdown",
   "id": "2db33f90-061d-4d14-835b-ad09a6ab1a8a",
   "metadata": {},
   "source": [
    "*This text is in italics.*\n",
    "_And so is this text._\n",
    "\n",
    "**This text is in bold.**\n",
    "__And so is this text.__\n",
    "\n",
    "***This text is in both.***\n",
    "**_As is this!_**\n",
    "*__And this!__*"
   ]
  },
  {
   "cell_type": "markdown",
   "id": "77e86448-0f25-41a6-a9f9-dccee42df606",
   "metadata": {},
   "source": [
    "Boxes below without the 'x' are unchecked HTML checkboxes.\n",
    "- [ ] First task to complete.\n",
    "- [ ] Second task that needs done\n",
    "This checkbox below will be a checked HTML checkbox.\n",
    "- [x] This task has been completed"
   ]
  },
  {
   "cell_type": "markdown",
   "id": "0fba66f0-c804-4dfd-8188-edbf551dee19",
   "metadata": {},
   "source": [
    "- [Heading](#heading)\n",
    "- [Another heading](#another-heading)\n",
    "- [Chapter](#chapter)\n",
    "  - [Subchapter <h3 />](#subchapter-h3-)"
   ]
  },
  {
   "cell_type": "code",
   "execution_count": null,
   "id": "fb7c0912-87c8-44ce-a9e9-3893e8a90878",
   "metadata": {},
   "outputs": [],
   "source": []
  }
 ],
 "metadata": {
  "kernelspec": {
   "display_name": "Python 3 (ipykernel)",
   "language": "python",
   "name": "python3"
  },
  "language_info": {
   "codemirror_mode": {
    "name": "ipython",
    "version": 3
   },
   "file_extension": ".py",
   "mimetype": "text/x-python",
   "name": "python",
   "nbconvert_exporter": "python",
   "pygments_lexer": "ipython3",
   "version": "3.12.7"
  }
 },
 "nbformat": 4,
 "nbformat_minor": 5
}
