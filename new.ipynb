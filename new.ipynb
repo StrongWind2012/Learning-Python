{
 "cells": [
  {
   "cell_type": "markdown",
   "id": "b5ba359a-309b-4448-a452-03ec8219b6ee",
   "metadata": {},
   "source": [
    "# XIN CHÀO·"
   ]
  },
  {
   "cell_type": "markdown",
   "id": "d0dd1f72-9ea9-4988-ad79-bd95b34614e9",
   "metadata": {},
   "source": [
    "##### MỤC·1"
   ]
  },
  {
   "cell_type": "markdown",
   "id": "aa6039ed-e6c6-48dc-81a0-2a2f84dbd92b",
   "metadata": {},
   "source": [
    "#### A) Kế thừa Python"
   ]
  },
  {
   "cell_type": "markdown",
   "id": "a1c34ed8-442b-4404-b1b6-3e90c04bb47a",
   "metadata": {},
   "source": [
    "#### Tạo một lớp cha"
   ]
  },
  {
   "cell_type": "code",
   "execution_count": 6,
   "id": "477d389c-2175-4bfa-adbb-55e620fe6aa7",
   "metadata": {},
   "outputs": [
    {
     "name": "stdout",
     "output_type": "stream",
     "text": [
      "John Doe\n"
     ]
    }
   ],
   "source": [
    "class Person:\n",
    "  def __init__(self, fname, lname):\n",
    "    self.firstname = fname\n",
    "    self.lastname = lname\n",
    "\n",
    "  def printname(self):\n",
    "    print(self.firstname, self.lastname)\n",
    "\n",
    "#Use the Person class to create an object, and then execute the printname method:\n",
    "\n",
    "x = Person(\"John\", \"Doe\")\n",
    "x.printname()"
   ]
  },
  {
   "cell_type": "markdown",
   "id": "ef2b7231-e003-4bc6-ad1c-03cfa516bcc9",
   "metadata": {},
   "source": [
    "#### Tạo một lớp con"
   ]
  },
  {
   "cell_type": "code",
   "execution_count": 7,
   "id": "09d556db-4b05-4305-9bc3-e469eea99005",
   "metadata": {},
   "outputs": [],
   "source": [
    "class Student(Person):\n",
    "  pass"
   ]
  },
  {
   "cell_type": "markdown",
   "id": "9f2477fa-baab-46c3-966c-7784b449752b",
   "metadata": {},
   "source": [
    "#### Ví dụ"
   ]
  },
  {
   "cell_type": "code",
   "execution_count": 8,
   "id": "81160bfe-d68a-4bbe-97cf-734258001d0f",
   "metadata": {},
   "outputs": [
    {
     "name": "stdout",
     "output_type": "stream",
     "text": [
      "Mike Olsen\n"
     ]
    }
   ],
   "source": [
    "x = Student(\"Mike\", \"Olsen\")\n",
    "x.printname()"
   ]
  },
  {
   "cell_type": "code",
   "execution_count": 10,
   "id": "33071d97-7ccf-499a-a85a-8ee850a0f9dc",
   "metadata": {},
   "outputs": [],
   "source": [
    "class Student(Person):\n",
    "  def __init__(self, fname, lname):\n",
    "    Person.__init__(self, fname, lname)"
   ]
  },
  {
   "cell_type": "markdown",
   "id": "9c0f0b63-9a8d-40aa-b793-909c42666ff0",
   "metadata": {},
   "source": [
    "#### Sử dụng hàm super()"
   ]
  },
  {
   "cell_type": "code",
   "execution_count": 11,
   "id": "33dc07d9-8012-4b47-8ec7-45834808850d",
   "metadata": {},
   "outputs": [],
   "source": [
    "class Student(Person):\n",
    "  def __init__(self, fname, lname):\n",
    "    super().__init__(fname, lname)"
   ]
  },
  {
   "cell_type": "markdown",
   "id": "1cff4967-b2cd-449d-8591-8bb0b3f2b66d",
   "metadata": {},
   "source": [
    "#### Thêm phương pháp"
   ]
  },
  {
   "cell_type": "code",
   "execution_count": 12,
   "id": "7e16ed2a-7ed7-4036-994e-54aa22a1054b",
   "metadata": {},
   "outputs": [],
   "source": [
    "class Student(Person):\n",
    "  def __init__(self, fname, lname, year):\n",
    "    super().__init__(fname, lname)\n",
    "    self.graduationyear = year\n",
    "\n",
    "  def welcome(self):\n",
    "    print(\"Welcome\", self.firstname, self.lastname, \"to the class of\", self.graduationyear)"
   ]
  },
  {
   "cell_type": "markdown",
   "id": "fb9f5e21-afd6-4115-8586-a5e6cb9100e1",
   "metadata": {},
   "source": [
    "## B) Trình lặp Python"
   ]
  },
  {
   "cell_type": "markdown",
   "id": "57e0c624-2723-4f71-ba72-2f696dd8f298",
   "metadata": {},
   "source": [
    "#### Iterator so với Iterable"
   ]
  },
  {
   "cell_type": "code",
   "execution_count": 13,
   "id": "5437e39b-6850-47fe-b1ca-eb3baa4ce544",
   "metadata": {},
   "outputs": [
    {
     "name": "stdout",
     "output_type": "stream",
     "text": [
      "apple\n",
      "banana\n",
      "cherry\n"
     ]
    }
   ],
   "source": [
    "mytuple = (\"apple\", \"banana\", \"cherry\")\n",
    "myit = iter(mytuple)\n",
    "\n",
    "print(next(myit))\n",
    "print(next(myit))\n",
    "print(next(myit))"
   ]
  },
  {
   "cell_type": "code",
   "execution_count": 14,
   "id": "e9ca2741-7ed8-42dd-a481-6134abbb0cbd",
   "metadata": {},
   "outputs": [
    {
     "name": "stdout",
     "output_type": "stream",
     "text": [
      "b\n",
      "a\n",
      "n\n",
      "a\n",
      "n\n",
      "a\n"
     ]
    }
   ],
   "source": [
    "mystr = \"banana\"\n",
    "myit = iter(mystr)\n",
    "\n",
    "print(next(myit))\n",
    "print(next(myit))\n",
    "print(next(myit))\n",
    "print(next(myit))\n",
    "print(next(myit))\n",
    "print(next(myit))"
   ]
  },
  {
   "cell_type": "markdown",
   "id": "bfb6b8e0-f73b-42f1-9fb1-11fd534aa0c3",
   "metadata": {},
   "source": [
    "#### Lặp qua một Iterator"
   ]
  },
  {
   "cell_type": "code",
   "execution_count": 15,
   "id": "5c2315b9-4706-44c6-b08d-7ece6ce7b7ca",
   "metadata": {},
   "outputs": [
    {
     "name": "stdout",
     "output_type": "stream",
     "text": [
      "apple\n",
      "banana\n",
      "cherry\n"
     ]
    }
   ],
   "source": [
    "mytuple = (\"apple\", \"banana\", \"cherry\")\n",
    "\n",
    "for x in mytuple:\n",
    "  print(x)"
   ]
  },
  {
   "cell_type": "code",
   "execution_count": 16,
   "id": "164b8e6d-5da9-4210-9e4c-2879f9f55e49",
   "metadata": {},
   "outputs": [
    {
     "name": "stdout",
     "output_type": "stream",
     "text": [
      "b\n",
      "a\n",
      "n\n",
      "a\n",
      "n\n",
      "a\n"
     ]
    }
   ],
   "source": [
    "mystr = \"banana\"\n",
    "\n",
    "for x in mystr:\n",
    "  print(x)"
   ]
  },
  {
   "cell_type": "markdown",
   "id": "c51de8e6-84d0-4698-bccc-149b49a68796",
   "metadata": {},
   "source": [
    "#### Tạo một Iterator"
   ]
  },
  {
   "cell_type": "code",
   "execution_count": 17,
   "id": "260147a5-ee4d-4270-9c06-9ec3fb21afba",
   "metadata": {},
   "outputs": [
    {
     "name": "stdout",
     "output_type": "stream",
     "text": [
      "1\n",
      "2\n",
      "3\n",
      "4\n",
      "5\n"
     ]
    }
   ],
   "source": [
    "class MyNumbers:\n",
    "  def __iter__(self):\n",
    "    self.a = 1\n",
    "    return self\n",
    "\n",
    "  def __next__(self):\n",
    "    x = self.a\n",
    "    self.a += 1\n",
    "    return x\n",
    "\n",
    "myclass = MyNumbers()\n",
    "myiter = iter(myclass)\n",
    "\n",
    "print(next(myiter))\n",
    "print(next(myiter))\n",
    "print(next(myiter))\n",
    "print(next(myiter))\n",
    "print(next(myiter))"
   ]
  },
  {
   "cell_type": "markdown",
   "id": "aaf35666-7e06-4477-bf40-34a2c0d9397e",
   "metadata": {},
   "source": [
    "#### Dừng Lặp Lại"
   ]
  },
  {
   "cell_type": "code",
   "execution_count": null,
   "id": "42c7d6bc-4128-4372-9b3e-65a50f55f7d4",
   "metadata": {},
   "outputs": [],
   "source": []
  }
 ],
 "metadata": {
  "kernelspec": {
   "display_name": "Python 3 (ipykernel)",
   "language": "python",
   "name": "python3"
  },
  "language_info": {
   "codemirror_mode": {
    "name": "ipython",
    "version": 3
   },
   "file_extension": ".py",
   "mimetype": "text/x-python",
   "name": "python",
   "nbconvert_exporter": "python",
   "pygments_lexer": "ipython3",
   "version": "3.12.7"
  }
 },
 "nbformat": 4,
 "nbformat_minor": 5
}
