{
 "cells": [
  {
   "cell_type": "markdown",
   "id": "905ef7db-33d1-456a-91dd-2cd45e31f64f",
   "metadata": {},
   "source": [
    "# Python DSA-start"
   ]
  },
  {
   "cell_type": "markdown",
   "id": "246ac5f3-7c62-49d6-b010-1baaf12e4d44",
   "metadata": {},
   "source": [
    "## 1.DSA with Python"
   ]
  },
  {
   "cell_type": "markdown",
   "id": "ee7767c9-f94f-4dcb-8cfc-2f370ba76836",
   "metadata": {},
   "source": [
    "## 1.1 Data Structures\n",
    "\n",
    "Data Structures are a way of storing and organizing data in a computer.\n",
    "\n",
    "Python has built-in support for several data structures, such as lists, dictionaries, and sets.\n",
    "\n",
    "Other data structures can be implemented using Python classes and objects, such as linked lists, stacks, queues, trees, and graphs.\n",
    "\n",
    "In this tutorial we will concentrate on these Data Structures:\n",
    "\n",
    "    Lists and Arrays\n",
    "    Stacks\n",
    "    Queues\n",
    "    Linked Lists\n",
    "    Hash Tables\n",
    "    Trees\n",
    "        Binary Trees\n",
    "        Binary Search Trees\n",
    "        AVL Trees\n",
    "    Graphs\n",
    "\n"
   ]
  },
  {
   "cell_type": "markdown",
   "id": "1fbe9e66-9a2a-4a01-9cea-c60e2dd935d7",
   "metadata": {},
   "source": [
    "## 1.2 Algorithms\n",
    "\n",
    "Algorithms are a way of working with data in a computer and solving problems like sorting, searching, etc.\n",
    "\n",
    "In this tutorial we will concentrate on these search and sort Algorithms:\n",
    "\n",
    "    Linear Search\n",
    "    Binary Search\n",
    "    Bubble Sort\n",
    "    Selection Sort\n",
    "    Insertion Sort\n",
    "    Quick Sort\n",
    "    Counting Sort\n",
    "    Radix Sort\n",
    "    Merge Sort\n",
    "\n"
   ]
  },
  {
   "cell_type": "markdown",
   "id": "08a2f4b4-0c6b-44ae-97b5-7ab83d6c59a4",
   "metadata": {},
   "source": [
    "## 1.3 Why Learn DSA with Python\n",
    "\n",
    "    Python has a clean readable syntax\n",
    "    DSA allows you to improve problem-solving skills\n",
    "    DSA and Python helps you write more efficient code\n",
    "    DSA gives you a better understanding of memory storage\n",
    "    DSA helps you handle complex programming challenges\n",
    "    Python is widely used in Data Science and Machine Learning\n"
   ]
  },
  {
   "cell_type": "markdown",
   "id": "c54ca49b-51a2-45f0-8e6c-9ab18748da00",
   "metadata": {},
   "source": [
    "## 2 Python Lists and Arrays"
   ]
  },
  {
   "cell_type": "markdown",
   "id": "3581e34e-24a6-4bb3-a788-a3bbc18d69c4",
   "metadata": {},
   "source": [
    "In Python, lists are the built-in data structure that serves as a dynamic array.\n",
    "\n",
    "Lists are ordered, mutable, and can contain elements of different types.\n"
   ]
  },
  {
   "cell_type": "markdown",
   "id": "6c11a903-8f8d-4cf4-80f9-c66d215d4645",
   "metadata": {},
   "source": [
    "## 2.1 Lists\n",
    "\n",
    "A list is a built-in data structure in Python, used to store multiple elements.\n",
    "\n",
    "Lists are used by many algorithms.\n"
   ]
  },
  {
   "cell_type": "markdown",
   "id": "2b44d396-47ae-4ee3-9462-6e2ddc4a7336",
   "metadata": {},
   "source": [
    "## 2.2 Creating Lists\n",
    "\n",
    "Lists are created using square brackets []:"
   ]
  },
  {
   "cell_type": "code",
   "execution_count": 2,
   "id": "a6b6823b-1c02-4b51-a296-347bbe4e94fc",
   "metadata": {},
   "outputs": [],
   "source": [
    "# Empty list\n",
    "x = []\n",
    "\n",
    "# List with initial values\n",
    "y = [1, 2, 3, 4, 5]\n",
    "\n",
    "# List with mixed types\n",
    "z = [1, \"hello\", 3.14, True]"
   ]
  },
  {
   "cell_type": "markdown",
   "id": "d9d7d1fb-4acf-492d-be97-2c5c003f12ce",
   "metadata": {},
   "source": [
    "## 2.3 List Methods\n",
    "\n",
    "Python lists come with several built-in algorithms (called methods), to perform common operations like appending, sorting, and more."
   ]
  },
  {
   "cell_type": "code",
   "execution_count": 3,
   "id": "71fe7129-d11e-4d29-a79e-b53e90faa0e0",
   "metadata": {},
   "outputs": [],
   "source": [
    "x = [9, 12, 7, 4, 11]\n",
    "\n",
    "# Add element:\n",
    "x.append(8)\n",
    "\n",
    "# Sort list ascending:\n",
    "x.sort()"
   ]
  },
  {
   "cell_type": "markdown",
   "id": "94ac8b7a-ccaf-484e-95da-0c50a768c009",
   "metadata": {},
   "source": [
    "## 2.4 Create Algorithms\n",
    "\n",
    "Sometimes we want to perform actions that are not built into Python.\n",
    "\n",
    "Then we can create our own algorithms.\n",
    "\n",
    "For example, an algorithm can be used to find the lowest value in a list, like in the example below:"
   ]
  },
  {
   "cell_type": "code",
   "execution_count": 4,
   "id": "2a8ebfbe-db79-475a-b89e-2a68a26d41fd",
   "metadata": {},
   "outputs": [
    {
     "name": "stdout",
     "output_type": "stream",
     "text": [
      "Lowest value: 4\n"
     ]
    }
   ],
   "source": [
    "my_array = [7, 12, 9, 4, 11, 8]\n",
    "minVal = my_array[0]\n",
    "\n",
    "for i in my_array:\n",
    "  if i < minVal:\n",
    "    minVal = i\n",
    "\n",
    "print('Lowest value:', minVal)"
   ]
  },
  {
   "cell_type": "markdown",
   "id": "247823a1-c833-4f92-8c0b-c495fa8ddcb5",
   "metadata": {},
   "source": [
    "## 2.5 Time Complexity\n",
    "Run Time\n",
    "\n",
    "When exploring algorithms, we often look at how much time an algorithm takes to run relative to the size of the data set.\n",
    "\n",
    "In the example above, the time the algorithm needs to run is proportional, or linear, to the size of the data set. This is because the algorithm must visit every array element one time to find the lowest value. The loop must run 5 times since there are 5 values in the array. And if the array had 1000 values, the loop would have to run 1000 times.\n",
    "\n",
    "Try the simulation below to see this relationship between the number of compare operations needed to find the lowest value, and the size of the array.\n",
    "\n",
    "See this page for a more thorough explanation of what time complexity is.\n",
    "\n",
    "Each algorithm in this tutorial will be presented together with its time complexity.\n"
   ]
  },
  {
   "cell_type": "markdown",
   "id": "b9e4c5ca-b5a3-41b7-8976-e9781b818411",
   "metadata": {},
   "source": [
    "## 3.Stacks with Python"
   ]
  },
  {
   "cell_type": "markdown",
   "id": "22ffd302-1712-4e62-be2a-ae149f94433b",
   "metadata": {},
   "source": [
    "## 3.1 Stacks\n",
    "\n",
    "A stack is a data structure that can hold many elements, and the last element added is the first one to be removed.\n",
    "\n",
    "Like a pile of pancakes, the pancakes are both added and removed from the top. So when removing a pancake, it will always be the last pancake you added. This way of organizing elements is called LIFO: Last In First Out.\n",
    "\n",
    "Basic operations we can do on a stack are:\n",
    "\n",
    "    Push: Adds a new element on the stack.\n",
    "    Pop: Removes and returns the top element from the stack.\n",
    "    Peek: Returns the top (last) element on the stack.\n",
    "    isEmpty: Checks if the stack is empty.\n",
    "    Size: Finds the number of elements in the stack.\n",
    "\n",
    "Stacks can be implemented by using arrays or linked lists.\n",
    "\n",
    "Stacks can be used to implement undo mechanisms, to revert to previous states, to create algorithms for depth-first search in graphs, or for backtracking.\n",
    "\n",
    "Stacks are often mentioned together with Queues, which is a similar data structure described on the next page.\n"
   ]
  },
  {
   "cell_type": "markdown",
   "id": "42d5d345-6a3f-480b-98d3-4c131abd44fa",
   "metadata": {},
   "source": [
    "## 3.2 Stack Implementation using Python Lists\n",
    "\n",
    "For Python lists (and arrays), a stack can look and behave like this:\n",
    "x = [5, 6, 2, 9, 3, 8, 4, 2]\n",
    "Add: Remove:\n",
    "\n",
    "Since Python lists has good support for functionality needed to implement stacks, we start with creating a stack and do stack operations with just a few lines like this:"
   ]
  },
  {
   "cell_type": "code",
   "execution_count": 5,
   "id": "1b5b1c22-5bde-4b87-8704-57a26e4ef69b",
   "metadata": {},
   "outputs": [
    {
     "name": "stdout",
     "output_type": "stream",
     "text": [
      "Stack:  ['A', 'B', 'C']\n",
      "Peek:  C\n",
      "Pop:  C\n",
      "Stack after Pop:  ['A', 'B']\n",
      "isEmpty:  False\n",
      "Size:  2\n"
     ]
    }
   ],
   "source": [
    "stack = []\n",
    "\n",
    "# Push\n",
    "stack.append('A')\n",
    "stack.append('B')\n",
    "stack.append('C')\n",
    "print(\"Stack: \", stack)\n",
    "\n",
    "# Peek\n",
    "topElement = stack[-1]\n",
    "print(\"Peek: \", topElement)\n",
    "\n",
    "# Pop\n",
    "poppedElement = stack.pop()\n",
    "print(\"Pop: \", poppedElement)\n",
    "\n",
    "# Stack after Pop\n",
    "print(\"Stack after Pop: \", stack)\n",
    "\n",
    "# isEmpty\n",
    "isEmpty = not bool(stack)\n",
    "print(\"isEmpty: \", isEmpty)\n",
    "\n",
    "# Size\n",
    "print(\"Size: \",len(stack))"
   ]
  },
  {
   "cell_type": "code",
   "execution_count": 6,
   "id": "02beb936-4219-4827-9ac6-9017badf1f5f",
   "metadata": {},
   "outputs": [
    {
     "name": "stdout",
     "output_type": "stream",
     "text": [
      "Stack:  ['A', 'B', 'C']\n",
      "Pop:  C\n",
      "Stack after Pop:  ['A', 'B']\n",
      "Peek:  B\n",
      "isEmpty:  False\n",
      "Size:  2\n"
     ]
    }
   ],
   "source": [
    "class Stack:\n",
    "  def __init__(self):\n",
    "    self.stack = []\n",
    "\n",
    "  def push(self, element):\n",
    "    self.stack.append(element)\n",
    "\n",
    "  def pop(self):\n",
    "    if self.isEmpty():\n",
    "      return \"Stack is empty\"\n",
    "    return self.stack.pop()\n",
    "\n",
    "  def peek(self):\n",
    "    if self.isEmpty():\n",
    "      return \"Stack is empty\"\n",
    "    return self.stack[-1]\n",
    "\n",
    "  def isEmpty(self):\n",
    "    return len(self.stack) == 0\n",
    "\n",
    "  def size(self):\n",
    "    return len(self.stack)\n",
    "\n",
    "# Create a stack\n",
    "myStack = Stack()\n",
    "\n",
    "myStack.push('A')\n",
    "myStack.push('B')\n",
    "myStack.push('C')\n",
    "\n",
    "print(\"Stack: \", myStack.stack)\n",
    "print(\"Pop: \", myStack.pop())\n",
    "print(\"Stack after Pop: \", myStack.stack)\n",
    "print(\"Peek: \", myStack.peek())\n",
    "print(\"isEmpty: \", myStack.isEmpty())\n",
    "print(\"Size: \", myStack.size())"
   ]
  },
  {
   "cell_type": "markdown",
   "id": "e5c68a8d-59e7-40a0-81f2-1b8136ed1f7c",
   "metadata": {},
   "source": [
    "Reasons to implement stacks using lists/arrays:\n",
    "\n",
    "    Memory Efficient: Array elements do not hold the next elements address like linked list nodes do.\n",
    "    Easier to implement and understand: Using arrays to implement stacks require less code than using linked lists, and for this reason it is typically easier to understand as well.\n",
    "\n",
    "A reason for not using arrays to implement stacks:\n",
    "\n",
    "    Fixed size: An array occupies a fixed part of the memory. This means that it could take up more memory than needed, or if the array fills up, it cannot hold more elements.\n",
    "\n"
   ]
  },
  {
   "cell_type": "markdown",
   "id": "1fae4468-67c1-4ca6-8be3-85268fceb583",
   "metadata": {},
   "source": [
    "## 3.3 Stack Implementation using Linked Lists\n",
    "\n",
    "A linked list consists of nodes with some sort of data, and a pointer to the next node.\n",
    "A singly linked list.\n",
    "\n",
    "A big benefit with using linked lists is that nodes are stored wherever there is free space in memory, the nodes do not have to be stored contiguously right after each other like elements are stored in arrays. Another nice thing with linked lists is that when adding or removing nodes, the rest of the nodes in the list do not have to be shifted.\n",
    "\n",
    "To better understand the benefits with using arrays or linked lists to implement stacks, you should check out this page that explains how arrays and linked lists are stored in memory.\n",
    "\n",
    "This is how a stack can be implemented using a linked list."
   ]
  },
  {
   "cell_type": "code",
   "execution_count": 7,
   "id": "e3978a1d-6a22-4181-94bb-13b4969cd107",
   "metadata": {},
   "outputs": [
    {
     "name": "stdout",
     "output_type": "stream",
     "text": [
      "LinkedList: C -> B -> A -> \n",
      "Peek:  C\n",
      "Pop:  C\n",
      "LinkedList after Pop: B -> A -> \n",
      "isEmpty:  False\n",
      "Size:  2\n"
     ]
    }
   ],
   "source": [
    "class Node:\n",
    "  def __init__(self, value):\n",
    "    self.value = value\n",
    "    self.next = None\n",
    "\n",
    "class Stack:\n",
    "  def __init__(self):\n",
    "    self.head = None\n",
    "    self.size = 0\n",
    "\n",
    "  def push(self, value):\n",
    "    new_node = Node(value)\n",
    "    if self.head:\n",
    "      new_node.next = self.head\n",
    "    self.head = new_node\n",
    "    self.size += 1\n",
    "\n",
    "  def pop(self):\n",
    "    if self.isEmpty():\n",
    "      return \"Stack is empty\"\n",
    "    popped_node = self.head\n",
    "    self.head = self.head.next\n",
    "    self.size -= 1\n",
    "    return popped_node.value\n",
    "\n",
    "  def peek(self):\n",
    "    if self.isEmpty():\n",
    "      return \"Stack is empty\"\n",
    "    return self.head.value\n",
    "\n",
    "  def isEmpty(self):\n",
    "    return self.size == 0\n",
    "\n",
    "  def stackSize(self):\n",
    "    return self.size\n",
    "\n",
    "  def traverseAndPrint(self):\n",
    "    currentNode = self.head\n",
    "    while currentNode:\n",
    "      print(currentNode.value, end=\" -> \")\n",
    "      currentNode = currentNode.next\n",
    "    print()\n",
    "\n",
    "myStack = Stack()\n",
    "myStack.push('A')\n",
    "myStack.push('B')\n",
    "myStack.push('C')\n",
    "\n",
    "print(\"LinkedList: \", end=\"\")\n",
    "myStack.traverseAndPrint()\n",
    "print(\"Peek: \", myStack.peek())\n",
    "print(\"Pop: \", myStack.pop())\n",
    "print(\"LinkedList after Pop: \", end=\"\")\n",
    "myStack.traverseAndPrint()\n",
    "print(\"isEmpty: \", myStack.isEmpty())\n",
    "print(\"Size: \", myStack.stackSize())"
   ]
  },
  {
   "cell_type": "markdown",
   "id": "d026cc99-cea7-42df-b6fa-4ec9cab4b97a",
   "metadata": {},
   "source": [
    "A reason for using linked lists to implement stacks:\n",
    "\n",
    "    Dynamic size: The stack can grow and shrink dynamically, unlike with arrays.\n",
    "\n",
    "Reasons for not using linked lists to implement stacks:\n",
    "\n",
    "    Extra memory: Each stack element must contain the address to the next element (the next linked list node).\n",
    "    Readability: The code might be harder to read and write for some because it is longer and more complex.\n"
   ]
  },
  {
   "cell_type": "markdown",
   "id": "aadf5dda-9caa-4642-a67f-fa33afb6bc66",
   "metadata": {},
   "source": [
    "## 3.4 Common Stack Applications\n",
    "\n",
    "Stacks are used in many real-world scenarios:\n",
    "\n",
    "    Undo/Redo operations in text editors\n",
    "    Browser history (back/forward)\n",
    "    Function call stack in programming\n",
    "    Expression evaluation\n",
    "\n"
   ]
  }
 ],
 "metadata": {
  "kernelspec": {
   "display_name": "Python 3 (ipykernel)",
   "language": "python",
   "name": "python3"
  },
  "language_info": {
   "codemirror_mode": {
    "name": "ipython",
    "version": 3
   },
   "file_extension": ".py",
   "mimetype": "text/x-python",
   "name": "python",
   "nbconvert_exporter": "python",
   "pygments_lexer": "ipython3",
   "version": "3.12.7"
  }
 },
 "nbformat": 4,
 "nbformat_minor": 5
}
