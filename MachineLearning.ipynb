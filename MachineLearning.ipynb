{
 "cells": [
  {
   "cell_type": "markdown",
   "id": "fd27a470-f62c-4344-b5e5-1f077f1db418",
   "metadata": {},
   "source": [
    "# 25/4/2025"
   ]
  },
  {
   "cell_type": "markdown",
   "id": "5338934a-973b-4969-af69-a53a8cfc5765",
   "metadata": {},
   "source": [
    "## 1 Machine Learning"
   ]
  },
  {
   "cell_type": "markdown",
   "id": "21c8f8c6-d49f-47c1-9b5f-dade42444412",
   "metadata": {},
   "source": [
    "### 1.1 Bắt đầu từ đâu?\n",
    "\n",
    "Trong hướng dẫn này, chúng ta sẽ quay lại với toán học và nghiên cứu thống kê, cũng như cách tính toán các con số quan trọng dựa trên tập dữ liệu.\n",
    "\n",
    "Chúng ta cũng sẽ học cách sử dụng nhiều mô-đun Python khác nhau để có được câu trả lời cần thiết.\n",
    "\n",
    "Và chúng ta sẽ học cách tạo ra các hàm có khả năng dự đoán kết quả dựa trên những gì chúng ta đã học."
   ]
  },
  {
   "cell_type": "markdown",
   "id": "73bb51e7-8e45-4a60-b7f6-350a6dcd41bf",
   "metadata": {},
   "source": [
    "### 1.2 Bộ dữ liệu\n",
    "\n",
    "Trong tâm trí của máy tính, một tập dữ liệu là bất kỳ tập hợp dữ liệu nào. Nó có thể là bất kỳ thứ gì từ một mảng đến một cơ sở dữ liệu hoàn chỉnh.\n",
    "\n",
    "Ví dụ về một mảng: \n",
    "\n",
    "[99,86,87,88,111,86,103,87,94,78,77,85,86]\n",
    "\n",
    "Ví dụ về cơ sở dữ liệu:\n",
    "Họ tên \tMàu sắc \tTuổi \tTốc độ \tThẻ tự động\n",
    "Xe BMW \tmàu đỏ \t5 \t99 \tCó\n",
    "Volvo \tđen \t7 \t86 \tCó\n",
    "Xe ô tô \txám \t8 \t87 \tN\n",
    "Xe ô tô \ttrắng \t7 \t88 \tCó\n",
    "Xe Ford \ttrắng \t2 \t111 \tCó\n",
    "Xe ô tô \ttrắng \t17 \t86 \tCó\n",
    "Tesla \tmàu đỏ \t2 \t103 \tCó\n",
    "Xe BMW \tđen \t9 \t87 \tCó\n",
    "Volvo \txám \t4 \t94 \tN\n",
    "Xe Ford \ttrắng \t11 \t78 \tN\n",
    "Toyota \txám \t12 \t77 \tN\n",
    "Xe ô tô \ttrắng \t9 \t85 \tN\n",
    "Toyota \tmàu xanh da trời \t6 \t86 \tCó\n",
    "\n",
    "Khi nhìn vào mảng, chúng ta có thể đoán rằng giá trị trung bình có thể vào khoảng 80 hoặc 90, và chúng ta cũng có thể xác định giá trị cao nhất và giá trị thấp nhất, nhưng chúng ta có thể làm gì khác?\n",
    "\n",
    "Khi xem xét cơ sở dữ liệu, chúng ta có thể thấy rằng màu phổ biến nhất là màu trắng và chiếc xe cũ nhất là 17 năm, nhưng nếu chúng ta có thể dự đoán xem một chiếc xe có AutoPass hay không chỉ bằng cách xem xét các giá trị khác thì sao?\n",
    "\n",
    "Đó chính là mục đích của Machine Learning! Phân tích dữ liệu và dự đoán kết quả!\n",
    "\n",
    "Trong Machine Learning, việc làm việc với các tập dữ liệu rất lớn là điều thường thấy. Trong hướng dẫn này, chúng tôi sẽ cố gắng giúp bạn hiểu các khái niệm khác nhau của machine learning một cách dễ dàng nhất có thể và chúng tôi sẽ làm việc với các tập dữ liệu nhỏ dễ hiểu.\n"
   ]
  },
  {
   "cell_type": "markdown",
   "id": "b5e4f587-a6d9-4653-ba99-458b975ce1a5",
   "metadata": {},
   "source": [
    "### 1.3 Kiểu dữ liệu\n",
    "\n",
    "Để phân tích dữ liệu, điều quan trọng là phải biết chúng ta đang xử lý loại dữ liệu nào.\n",
    "\n",
    "Chúng ta có thể chia các kiểu dữ liệu thành ba loại chính:\n",
    "\n",
    "    Số\n",
    "    Phân loại\n",
    "    Thứ tự\n",
    "\n",
    "Dữ liệu số là các con số và có thể được chia thành hai loại số:\n",
    "\n",
    "    Dữ liệu rời rạc\n",
    "    - dữ liệu được đếm giới hạn ở số nguyên. Ví dụ: Số lượng xe ô tô đi qua.\n",
    "    Dữ liệu liên tục\n",
    "    - dữ liệu được đo lường có thể là bất kỳ số nào. Ví dụ: Giá của một mặt hàng hoặc kích thước của một mặt hàng\n",
    "\n",
    "Dữ liệu phân loại là các giá trị không thể so sánh với nhau. Ví dụ: giá trị màu hoặc bất kỳ giá trị có/không nào.\n",
    "\n",
    "Dữ liệu thứ tự giống như dữ liệu phân loại, nhưng có thể được so sánh với nhau. Ví dụ: điểm ở trường mà A cao hơn B, v.v.\n",
    "\n",
    "Bằng cách biết kiểu dữ liệu của nguồn dữ liệu, bạn sẽ có thể biết nên sử dụng kỹ thuật nào khi phân tích chúng.\n",
    "\n",
    "Bạn sẽ tìm hiểu thêm về thống kê và phân tích dữ liệu ở các chương tiếp theo."
   ]
  },
  {
   "cell_type": "markdown",
   "id": "da609960-07db-4e60-9369-e98efc2af426",
   "metadata": {},
   "source": [
    "## 2 Học máy - Chế độ trung bình trung vị"
   ]
  },
  {
   "cell_type": "markdown",
   "id": "dd43597f-8007-4cce-abf3-a3ef7fe5d9bb",
   "metadata": {},
   "source": [
    "### 2.1 Trung bình, Trung vị và Mốt\n",
    "\n",
    "Chúng ta có thể học được gì khi nhìn vào một nhóm số?\n",
    "\n",
    "Trong Học máy (và toán học), thường có ba giá trị mà chúng ta quan tâm:\n",
    "\n",
    "    Trung bình - Giá trị trung bình\n",
    "    Trung vị - Giá trị điểm giữa\n",
    "    Mode - Giá trị phổ biến nhất\n",
    "\n",
    "Ví dụ: Chúng tôi đã ghi lại tốc độ của 13 chiếc xe:\n",
    "\n",
    "speed = [99,86,87,88,111,86,103,87,94,78,77,85,86]\n",
    "\n",
    "Giá trị tốc độ trung bình, trung bình hoặc phổ biến nhất là gì?\n",
    "Nghĩa là\n",
    "\n",
    "Giá trị trung bình là giá trị trung bình.\n",
    "\n",
    "Để tính giá trị trung bình, hãy tìm tổng của tất cả các giá trị và chia tổng đó cho số giá trị:\n",
    "\n",
    "(99+86+87+88+111+86+103+87+94+78+77+85+86) / 13 = 89.77\n",
    "\n",
    "Mô-đun NumPy có phương pháp cho việc này. Tìm hiểu về mô-đun NumPy trong Hướng dẫn NumPy của chúng tôi .\n"
   ]
  },
  {
   "cell_type": "code",
   "execution_count": 1,
   "id": "cc932a13-ad00-429a-ad3d-c09b053d0b3a",
   "metadata": {},
   "outputs": [
    {
     "name": "stdout",
     "output_type": "stream",
     "text": [
      "89.76923076923077\n"
     ]
    }
   ],
   "source": [
    "import numpy\n",
    "\n",
    "speed = [99,86,87,88,111,86,103,87,94,78,77,85,86]\n",
    "\n",
    "x = numpy.mean(speed)\n",
    "\n",
    "print(x)"
   ]
  },
  {
   "cell_type": "markdown",
   "id": "2f4b8589-9a6d-49db-aa50-59b8a0488ee7",
   "metadata": {},
   "source": [
    "### 2.2 Trung vị\n",
    "\n",
    "Giá trị trung vị là giá trị ở giữa, sau khi bạn đã sắp xếp tất cả các giá trị:\n",
    "\n",
    "77, 78, 85, 86, 86, 86, 87, 87, 88, 94, 99, 103, 111\n",
    "\n",
    "Điều quan trọng là phải sắp xếp các số trước khi bạn có thể tìm được trung vị.\n",
    "\n",
    "Mô-đun NumPy có phương thức thực hiện việc này:"
   ]
  },
  {
   "cell_type": "code",
   "execution_count": 2,
   "id": "44a439f7-89fa-40d6-a830-021f4ebb4c5e",
   "metadata": {},
   "outputs": [
    {
     "name": "stdout",
     "output_type": "stream",
     "text": [
      "87.0\n"
     ]
    }
   ],
   "source": [
    "import numpy\n",
    "\n",
    "speed = [99,86,87,88,111,86,103,87,94,78,77,85,86]\n",
    "\n",
    "x = numpy.median(speed)\n",
    "\n",
    "print(x)"
   ]
  },
  {
   "cell_type": "code",
   "execution_count": 3,
   "id": "fccf8cd2-f1c8-4558-8b91-a5aff0599d24",
   "metadata": {},
   "outputs": [
    {
     "name": "stdout",
     "output_type": "stream",
     "text": [
      "86.5\n"
     ]
    }
   ],
   "source": [
    "import numpy\n",
    "\n",
    "speed = [99,86,87,88,86,103,87,94,78,77,85,86]\n",
    "\n",
    "x = numpy.median(speed)\n",
    "\n",
    "print(x)"
   ]
  },
  {
   "cell_type": "markdown",
   "id": "7c8db398-a0da-40ca-a0cd-c0ae7106414d",
   "metadata": {},
   "source": [
    "### 2.3 Cách thức\n",
    "\n",
    "Giá trị Mode là giá trị xuất hiện nhiều lần nhất:\n",
    "\n",
    "99, 86, 87, 88, 111, 86, 103, 87, 94, 78, 77, 85, 86 = 86\n",
    "\n",
    "Mô-đun SciPy có phương pháp cho việc này. Tìm hiểu về mô-đun SciPy trong Hướng dẫn SciPy của chúng tôi ."
   ]
  },
  {
   "cell_type": "code",
   "execution_count": 4,
   "id": "defece42-ca6a-44ec-96a9-df2b59012472",
   "metadata": {},
   "outputs": [
    {
     "name": "stdout",
     "output_type": "stream",
     "text": [
      "ModeResult(mode=86, count=3)\n"
     ]
    }
   ],
   "source": [
    "from scipy import stats\n",
    "\n",
    "speed = [99,86,87,88,111,86,103,87,94,78,77,85,86]\n",
    "\n",
    "x = stats.mode(speed)\n",
    "\n",
    "print(x)"
   ]
  },
  {
   "cell_type": "markdown",
   "id": "cbe2910a-8d2c-4d82-8ad3-6a152125a3fd",
   "metadata": {},
   "source": [
    "### 3 Học máy - Độ lệch chuẩnĐộ lệch chuẩn là gì?\n",
    "\n",
    "Độ lệch chuẩn là con số mô tả mức độ phân tán của các giá trị.\n",
    "\n",
    "Độ lệch chuẩn thấp có nghĩa là hầu hết các con số đều gần với giá trị trung bình (trung bình cộng).\n",
    "\n",
    "Độ lệch chuẩn cao có nghĩa là các giá trị được phân bổ trên một phạm vi rộng hơn.\n",
    "\n",
    "Ví dụ: Lần này chúng ta đã ghi lại tốc độ của 7 chiếc xe:\n",
    "\n",
    "speed = [86,87,88,86,87,85,86]\n",
    "\n",
    "Độ lệch chuẩn là:\n",
    "\n",
    "0.9\n",
    "\n",
    "Nghĩa là hầu hết các giá trị đều nằm trong phạm vi 0,9 so với giá trị trung bình là 86,4.\n",
    "\n",
    "Chúng ta hãy làm tương tự với một số có phạm vi rộng hơn:\n",
    "\n",
    "speed = [32,111,138,28,59,77,97]\n",
    "\n",
    "Độ lệch chuẩn là:\n",
    "\n",
    "37.85\n",
    "\n",
    "Nghĩa là hầu hết các giá trị đều nằm trong phạm vi từ 37,85 đến giá trị trung bình là 77,4.\n",
    "\n",
    "Như bạn có thể thấy, độ lệch chuẩn càng cao thì các giá trị càng trải rộng trên một phạm vi rộng hơn.\n",
    "\n",
    "Mô-đun NumPy có phương pháp tính độ lệch chuẩn:\n"
   ]
  },
  {
   "cell_type": "code",
   "execution_count": 5,
   "id": "3dd4b6bb-acaf-4338-9663-63658c7ee1a0",
   "metadata": {},
   "outputs": [
    {
     "name": "stdout",
     "output_type": "stream",
     "text": [
      "0.9035079029052513\n"
     ]
    }
   ],
   "source": [
    "import numpy\n",
    "\n",
    "speed = [86,87,88,86,87,85,86]\n",
    "\n",
    "x = numpy.std(speed)\n",
    "\n",
    "print(x)"
   ]
  },
  {
   "cell_type": "code",
   "execution_count": 6,
   "id": "cdf180df-d39f-495c-b077-31d80b6e52c0",
   "metadata": {},
   "outputs": [
    {
     "name": "stdout",
     "output_type": "stream",
     "text": [
      "37.84501153334721\n"
     ]
    }
   ],
   "source": [
    "import numpy\n",
    "\n",
    "speed = [32,111,138,28,59,77,97]\n",
    "\n",
    "x = numpy.std(speed)\n",
    "\n",
    "print(x)"
   ]
  },
  {
   "cell_type": "markdown",
   "id": "ed2033b2-e4d0-4d7b-9ee0-03903852a794",
   "metadata": {},
   "source": [
    "### 3.1 Phương sai\n",
    "\n",
    "Phương sai là một con số khác biểu thị mức độ phân tán của các giá trị.\n",
    "\n",
    "Trên thực tế, nếu bạn lấy căn bậc hai của phương sai, bạn sẽ có được độ lệch chuẩn!\n",
    "\n",
    "Hoặc ngược lại, nếu bạn nhân độ lệch chuẩn với chính nó, bạn sẽ có được phương sai!\n",
    "\n",
    "Để tính toán phương sai, bạn phải làm như sau:\n",
    "\n",
    "1. Tìm giá trị trung bình:\n",
    "\n",
    "(32+111+138+28+59+77+97) / 7 = 77.4\n",
    "\n",
    "2. Đối với mỗi giá trị: tìm sự khác biệt so với giá trị trung bình:\n",
    "\n",
    " 32 - 77.4 = -45.4\n",
    "111 - 77.4 =  33.6\n",
    "138 - 77.4 =  60.6\n",
    " 28 - 77.4 = -49.4\n",
    " 59 - 77.4 = -18.4\n",
    " 77 - 77.4 = - 0.4\n",
    " 97 - 77.4 =  19.6\n",
    "\n",
    "3. Đối với mỗi sự khác biệt: tìm giá trị bình phương:\n",
    "\n",
    "(-45.4)2 = 2061.16\n",
    " (33.6)2 = 1128.96\n",
    " (60.6)2 = 3672.36\n",
    "(-49.4)2 = 2440.36\n",
    "(-18.4)2 =  338.56\n",
    "(- 0.4)2 =    0.16\n",
    " (19.6)2 =  384.16\n",
    "\n",
    "4. Phương sai là số trung bình của các bình phương chênh lệch sau:\n",
    "\n",
    "(2061.16+1128.96+3672.36+2440.36+338.56+0.16+384.16) / 7 = 1432.2\n",
    "\n",
    "May mắn thay, NumPy có phương pháp để tính toán phương sai:"
   ]
  },
  {
   "cell_type": "code",
   "execution_count": 7,
   "id": "43e26de2-fde1-4aa6-b140-ea8dd89fa07c",
   "metadata": {},
   "outputs": [
    {
     "name": "stdout",
     "output_type": "stream",
     "text": [
      "1432.2448979591834\n"
     ]
    }
   ],
   "source": [
    "import numpy\n",
    "\n",
    "speed = [32,111,138,28,59,77,97]\n",
    "\n",
    "x = numpy.var(speed)\n",
    "\n",
    "print(x)"
   ]
  },
  {
   "cell_type": "markdown",
   "id": "da2737e1-5d69-4aae-909f-0855d56c3132",
   "metadata": {},
   "source": [
    "### 3.2 Độ lệch chuẩn\n",
    "\n",
    "Như chúng ta đã biết, công thức tìm độ lệch chuẩn là căn bậc hai của phương sai:\n",
    "\n",
    "√1432.25 = 37.85\n",
    "\n",
    "Hoặc, như trong ví dụ trước, sử dụng NumPy để tính độ lệch chuẩn:"
   ]
  },
  {
   "cell_type": "code",
   "execution_count": 8,
   "id": "46dbdffb-26cf-4d8b-b19d-a4dbd5320828",
   "metadata": {},
   "outputs": [
    {
     "name": "stdout",
     "output_type": "stream",
     "text": [
      "37.84501153334721\n"
     ]
    }
   ],
   "source": [
    "import numpy\n",
    "\n",
    "speed = [32,111,138,28,59,77,97]\n",
    "\n",
    "x = numpy.std(speed)\n",
    "\n",
    "print(x)"
   ]
  },
  {
   "cell_type": "markdown",
   "id": "ebbf5280-ef0a-466f-bce2-f62f4fe7aa7c",
   "metadata": {},
   "source": [
    "### 3.3 Biểu tượng\n",
    "\n",
    "Độ lệch chuẩn thường được biểu thị bằng ký hiệu Sigma: σ\n",
    "\n",
    "Độ lệch chuẩn thường được biểu diễn bằng ký hiệu Sigma bình phương: σ 2"
   ]
  }
 ],
 "metadata": {
  "kernelspec": {
   "display_name": "Python 3 (ipykernel)",
   "language": "python",
   "name": "python3"
  },
  "language_info": {
   "codemirror_mode": {
    "name": "ipython",
    "version": 3
   },
   "file_extension": ".py",
   "mimetype": "text/x-python",
   "name": "python",
   "nbconvert_exporter": "python",
   "pygments_lexer": "ipython3",
   "version": "3.12.7"
  }
 },
 "nbformat": 4,
 "nbformat_minor": 5
}
