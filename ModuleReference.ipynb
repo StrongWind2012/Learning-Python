{
 "cells": [
  {
   "cell_type": "markdown",
   "id": "551b1032-625d-442d-b4b4-ecd3dd93e558",
   "metadata": {},
   "source": [
    "# 5/5/2025"
   ]
  },
  {
   "cell_type": "markdown",
   "id": "9fd117a2-552f-4932-b4a0-16cf59a38c8f",
   "metadata": {},
   "source": [
    "## 1 Python Random Module\n",
    "\n",
    "Python có một mô-đun tích hợp mà bạn có thể sử dụng để tạo số ngẫu nhiên.\n",
    "\n",
    "Mô-đun này randomcó một tập hợp các phương pháp:\n",
    "Method \tDescription\n",
    "seed() \tInitialize the random number generator\n",
    "getstate() \tReturns the current internal state of the random number generator\n",
    "setstate() \tRestores the internal state of the random number generator\n",
    "getrandbits() \tReturns a number representing the random bits\n",
    "randrange() \tReturns a random number between the given range\n",
    "randint() \tReturns a random number between the given range\n",
    "choice() \tReturns a random element from the given sequence\n",
    "choices() \tReturns a list with a random selection from the given sequence\n",
    "shuffle() \tTakes a sequence and returns the sequence in a random order\n",
    "sample() \tReturns a given sample of a sequence\n",
    "random() \tReturns a random float number between 0 and 1\n",
    "uniform() \tReturns a random float number between two given parameters\n",
    "triangular() \tReturns a random float number between two given parameters, you can also set a mode parameter to specify the midpoint between the two other parameters\n",
    "betavariate() \tReturns a random float number between 0 and 1 based on the Beta distribution (used in statistics)\n",
    "expovariate() \tReturns a random float number based on the Exponential distribution (used in statistics)\n",
    "gammavariate() \tReturns a random float number based on the Gamma distribution (used in statistics)\n",
    "gauss() \tReturns a random float number based on the Gaussian distribution (used in probability theories)\n",
    "lognormvariate() \tReturns a random float number based on a log-normal distribution (used in probability theories)\n",
    "normalvariate() \tReturns a random float number based on the normal distribution (used in probability theories)\n",
    "vonmisesvariate() \tReturns a random float number based on the von Mises distribution (used in directional statistics)\n",
    "paretovariate() \tReturns a random float number based on the Pareto distribution (used in probability theories)\n",
    "weibullvariate() \tReturns a random float number based on the Weibull distribution (used in statistics)"
   ]
  },
  {
   "cell_type": "markdown",
   "id": "c0e69286-5a4b-4854-bb64-50fea1efc78b",
   "metadata": {},
   "source": [
    "## 2 Python Requests Module"
   ]
  },
  {
   "cell_type": "code",
   "execution_count": 7,
   "id": "ad993099-ed79-438d-9dc0-db1d2094246e",
   "metadata": {},
   "outputs": [
    {
     "name": "stdout",
     "output_type": "stream",
     "text": [
      "<!DOCTYPE html>\n",
      "<html>\n",
      "<body>\n",
      "\n",
      "<h1>This is a Test Page</h1>\n",
      "\n",
      "</body>\n",
      "</html>\n"
     ]
    }
   ],
   "source": [
    "import requests\n",
    "\n",
    "x = requests.get('https://w3schools.com/python/demopage.htm')\n",
    "\n",
    "print(x.text)"
   ]
  },
  {
   "cell_type": "markdown",
   "id": "f8716e52-df65-4e5f-a4d3-e55d46f4652e",
   "metadata": {},
   "source": [
    "## Định nghĩa và cách sử dụng\n",
    "\n",
    "Mô-đun này requestscho phép bạn gửi các yêu cầu HTTP bằng Python.\n",
    "\n",
    "Yêu cầu HTTP trả về một Đối tượng phản hồi có chứa tất cả dữ liệu phản hồi (nội dung, mã hóa, trạng thái, v.v.).\n",
    "## Tải xuống và cài đặt Mô-đun Yêu cầu\n",
    "\n",
    "Điều hướng dòng lệnh đến vị trí của PIP và nhập lệnh sau:\n",
    "C:\\Users\\Your Name\\AppData\\Local\\Programs\\Python\\Python36-32\\Scripts>pip install requests\n",
    "## Cú pháp\n",
    "requests.methodname(params)\n",
    "## Phương pháp\n",
    "Method \tDescription\n",
    "delete(url, args) \tSends a DELETE request to the specified url\n",
    "get(url, params, args) \tSends a GET request to the specified url\n",
    "head(url, args) \tSends a HEAD request to the specified url\n",
    "patch(url, data, args) \tSends a PATCH request to the specified url\n",
    "post(url, data, json, args) \tSends a POST request to the specified url\n",
    "put(url, data, args) \tSends a PUT request to the specified url\n",
    "request(method, url, args) \tSends a request of the specified method to the specified url"
   ]
  },
  {
   "cell_type": "markdown",
   "id": "103e74e4-6cac-4e85-bddb-eaea41698a8f",
   "metadata": {},
   "source": [
    "## 3 Python statistics Module"
   ]
  },
  {
   "cell_type": "markdown",
   "id": "bf7499ee-f50a-48ba-9632-1faa46ef0206",
   "metadata": {},
   "source": [
    "## Mô-đun thống kê Python\n",
    "\n",
    "Python có một mô-đun tích hợp mà bạn có thể sử dụng để tính toán thống kê toán học của dữ liệu số.\n",
    "\n",
    "Mô-đun này statisticslà mới trong Python 3.4.\n",
    "## Phương pháp thống kê\n",
    "Method \tDescription\n",
    "statistics.harmonic_mean() \tCalculates the harmonic mean (central location) of the given data\n",
    "statistics.mean() \tCalculates the mean (average) of the given data\n",
    "statistics.median() \tCalculates the median (middle value) of the given data\n",
    "statistics.median_grouped() \tCalculates the median of grouped continuous data\n",
    "statistics.median_high() \tCalculates the high median of the given data\n",
    "statistics.median_low() \tCalculates the low median of the given data\n",
    "statistics.mode() \tCalculates the mode (central tendency) of the given numeric or nominal data\n",
    "statistics.pstdev() \tCalculates the standard deviation from an entire population\n",
    "statistics.stdev() \tCalculates the standard deviation from a sample of data\n",
    "statistics.pvariance() \tCalculates the variance of an entire population\n",
    "statistics.variance() \tCalculates the variance from a sample of data\n"
   ]
  },
  {
   "cell_type": "markdown",
   "id": "2187bb68-2df3-42e8-a2a1-f8ccb30393f2",
   "metadata": {},
   "source": [
    "## 4 Python math Module"
   ]
  },
  {
   "cell_type": "markdown",
   "id": "88ad2e22-83b9-44d5-90e4-356a9b484ca1",
   "metadata": {},
   "source": [
    "## Mô-đun toán học Python\n",
    "\n",
    "Python có một mô-đun tích hợp mà bạn có thể sử dụng cho các nhiệm vụ toán học.\n",
    "\n",
    "Mô-đun này mathcó một tập hợp các phương thức và hằng số.\n",
    "## Phương pháp toán học\n",
    "Method \tDescription\n",
    "math.acos() \tReturns the arc cosine of a number\n",
    "math.acosh() \tReturns the inverse hyperbolic cosine of a number\n",
    "math.asin() \tReturns the arc sine of a number\n",
    "math.asinh() \tReturns the inverse hyperbolic sine of a number\n",
    "math.atan() \tReturns the arc tangent of a number in radians\n",
    "math.atan2() \tReturns the arc tangent of y/x in radians\n",
    "math.atanh() \tReturns the inverse hyperbolic tangent of a number\n",
    "math.ceil() \tRounds a number up to the nearest integer\n",
    "math.comb() \tReturns the number of ways to choose k items from n items without repetition and order\n",
    "math.copysign() \tReturns a float consisting of the value of the first parameter and the sign of the second parameter\n",
    "math.cos() \tReturns the cosine of a number\n",
    "math.cosh() \tReturns the hyperbolic cosine of a number\n",
    "math.degrees() \tConverts an angle from radians to degrees\n",
    "math.dist() \tReturns the Euclidean distance between two points (p and q), where p and q are the coordinates of that point\n",
    "math.erf() \tReturns the error function of a number\n",
    "math.erfc() \tReturns the complementary error function of a number\n",
    "math.exp() \tReturns E raised to the power of x\n",
    "math.expm1() \tReturns Ex - 1\n",
    "math.fabs() \tReturns the absolute value of a number\n",
    "math.factorial() \tReturns the factorial of a number\n",
    "math.floor() \tRounds a number down to the nearest integer\n",
    "math.fmod() \tReturns the remainder of x/y\n",
    "math.frexp() \tReturns the mantissa and the exponent, of a specified number\n",
    "math.fsum() \tReturns the sum of all items in any iterable (tuples, arrays, lists, etc.)\n",
    "math.gamma() \tReturns the gamma function at x\n",
    "math.gcd() \tReturns the greatest common divisor of two integers\n",
    "math.hypot() \tReturns the Euclidean norm\n",
    "math.isclose() \tChecks whether two values are close to each other, or not\n",
    "math.isfinite() \tChecks whether a number is finite or not\n",
    "math.isinf() \tChecks whether a number is infinite or not\n",
    "math.isnan() \tChecks whether a value is NaN (not a number) or not\n",
    "math.isqrt() \tRounds a square root number downwards to the nearest integer\n",
    "math.ldexp() \tReturns the inverse of math.frexp() which is x * (2**i) of the given numbers x and i\n",
    "math.lgamma() \tReturns the log gamma value of x\n",
    "math.log() \tReturns the natural logarithm of a number, or the logarithm of number to base\n",
    "math.log10() \tReturns the base-10 logarithm of x\n",
    "math.log1p() \tReturns the natural logarithm of 1+x\n",
    "math.log2() \tReturns the base-2 logarithm of x\n",
    "math.perm() \tReturns the number of ways to choose k items from n items with order and without repetition\n",
    "math.pow() \tReturns the value of x to the power of y\n",
    "math.prod() \tReturns the product of all the elements in an iterable\n",
    "math.radians() \tConverts a degree value into radians\n",
    "math.remainder() \tReturns the closest value that can make numerator completely divisible by the denominator\n",
    "math.sin() \tReturns the sine of a number\n",
    "math.sinh() \tReturns the hyperbolic sine of a number\n",
    "math.sqrt() \tReturns the square root of a number\n",
    "math.tan() \tReturns the tangent of a number\n",
    "math.tanh() \tReturns the hyperbolic tangent of a number\n",
    "math.trunc() \tReturns the truncated integer parts of a number\n",
    "\n",
    "## Hằng số toán học\n",
    "Constant \tDescription\n",
    "math.e \tReturns Euler's number (2.7182...)\n",
    "math.inf \tReturns a floating-point positive infinity\n",
    "math.nan \tReturns a floating-point NaN (Not a Number) value\n",
    "math.pi \tReturns PI (3.1415...)\n",
    "math.tau \tReturns tau (6.2831...)"
   ]
  },
  {
   "cell_type": "markdown",
   "id": "2ebc79f7-03ac-49ac-982f-fb6f990d873f",
   "metadata": {},
   "source": [
    "## 5 Python cmath Module"
   ]
  },
  {
   "cell_type": "markdown",
   "id": "a1b43177-bd5d-4a89-8ad9-213383549270",
   "metadata": {},
   "source": [
    "## Mô-đun cmath Python\n",
    "\n",
    "Python có một mô-đun tích hợp mà bạn có thể sử dụng cho các tác vụ toán học liên quan đến số phức.\n",
    "\n",
    "Các phương thức trong mô-đun này chấp nhận int, float, và complexsố. Nó thậm chí còn chấp nhận các đối tượng Python có phương thức __complex__()hoặc __float__().\n",
    "\n",
    "Các phương pháp trong mô-đun này hầu như luôn trả về một số phức. Nếu giá trị trả về có thể được biểu thị dưới dạng số thực, giá trị trả về có phần ảo là 0.\n",
    "\n",
    "Mô-đun này cmathcó một tập hợp các phương thức và hằng số.\n",
    "## Phương pháp cMath\n",
    "Method \tDescription\n",
    "cmath.acos(x) \tReturns the arc cosine value of x\n",
    "cmath.acosh(x) \tReturns the hyperbolic arc cosine of x\n",
    "cmath.asin(x) \tReturns the arc sine of x\n",
    "cmath.asinh(x) \tReturns the hyperbolic arc sine of x\n",
    "cmath.atan(x) \tReturns the arc tangent value of x\n",
    "cmath.atanh(x) \tReturns the hyperbolic arctangent value of x\n",
    "cmath.cos(x) \tReturns the cosine of x\n",
    "cmath.cosh(x) \tReturns the hyperbolic cosine of x\n",
    "cmath.exp(x) \tReturns the value of Ex, where E is Euler's number (approximately 2.718281...), and x is the number passed to it\n",
    "cmath.isclose() \tChecks whether two values are close, or not\n",
    "cmath.isfinite(x) \tChecks whether x is a finite number\n",
    "cmath.isinf(x) \tCheck whether x is a positive or negative infinty\n",
    "cmath.isnan(x) \tChecks whether x is NaN (not a number)\n",
    "cmath.log(x[, base]) \tReturns the logarithm of x to the base\n",
    "cmath.log10(x) \tReturns the base-10 logarithm of x\n",
    "cmath.phase() \tReturn the phase of a complex number\n",
    "cmath.polar() \tConvert a complex number to polar coordinates\n",
    "cmath.rect() \tConvert polar coordinates to rectangular form\n",
    "cmath.sin(x) \tReturns the sine of x\n",
    "cmath.sinh(x) \tReturns the hyperbolic sine of x\n",
    "cmath.sqrt(x) \tReturns the square root of x\n",
    "cmath.tan(x) \tReturns the tangent of x\n",
    "cmath.tanh(x) \tReturns the hyperbolic tangent of x\n",
    "\n",
    "## Hằng số cMath\n",
    "Constant \tDescription\n",
    "cmath.e \tReturns Euler's number (2.7182...)\n",
    "cmath.inf \tReturns a floating-point positive infinity value\n",
    "cmath.infj \tReturns a complex infinity value\n",
    "cmath.nan \tReturns floating-point NaN (Not a Number) value\n",
    "cmath.nanj \tReturns coplext NaN (Not a Number) value\n",
    "cmath.pi \tReturns PI (3.1415...)\n",
    "cmath.tau \tReturns tau (6.2831...)"
   ]
  },
  {
   "cell_type": "markdown",
   "id": "cd5c926a-d986-46af-9601-2b276d63dc9e",
   "metadata": {},
   "source": [
    "# END"
   ]
  },
  {
   "cell_type": "code",
   "execution_count": null,
   "id": "dd186971-322e-4d4c-83c1-533c0b9866e7",
   "metadata": {},
   "outputs": [],
   "source": []
  }
 ],
 "metadata": {
  "kernelspec": {
   "display_name": "Python 3 (ipykernel)",
   "language": "python",
   "name": "python3"
  },
  "language_info": {
   "codemirror_mode": {
    "name": "ipython",
    "version": 3
   },
   "file_extension": ".py",
   "mimetype": "text/x-python",
   "name": "python",
   "nbconvert_exporter": "python",
   "pygments_lexer": "ipython3",
   "version": "3.12.7"
  }
 },
 "nbformat": 4,
 "nbformat_minor": 5
}
