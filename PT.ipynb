{
 "cells": [
  {
   "cell_type": "markdown",
   "id": "d939ad47-abbe-4a70-9c56-f04a54af6513",
   "metadata": {},
   "source": [
    "# ngay 27 thang 3 nam 2024\n"
   ]
  },
  {
   "cell_type": "markdown",
   "id": "67b0aa3d-ecd5-4ed5-a623-4fe5ac0b95f6",
   "metadata": {},
   "source": [
    "# Phong lam bai moi tuan"
   ]
  },
  {
   "cell_type": "markdown",
   "id": "1f19cf0c-4be9-47bf-9cc9-935dd5d784ee",
   "metadata": {},
   "source": [
    "# Muc1"
   ]
  },
  {
   "cell_type": "code",
   "execution_count": 3,
   "id": "1f2c189d-2076-49ed-86be-1ff3ce705d03",
   "metadata": {},
   "outputs": [
    {
     "name": "stdout",
     "output_type": "stream",
     "text": [
      "5\n",
      "25\n"
     ]
    }
   ],
   "source": [
    "x = min(5, 10, 25)\n",
    "y = max(5, 10, 25)\n",
    "\n",
    "print(x)\n",
    "print(y)"
   ]
  },
  {
   "cell_type": "code",
   "execution_count": 4,
   "id": "23cbc33f-8929-4fba-9d02-ba96cbdde296",
   "metadata": {},
   "outputs": [
    {
     "name": "stdout",
     "output_type": "stream",
     "text": [
      "7.25\n"
     ]
    }
   ],
   "source": [
    "x = abs(-7.25)\n",
    "\n",
    "print(x)"
   ]
  },
  {
   "cell_type": "code",
   "execution_count": 5,
   "id": "2d0c2d83-514d-470b-87a2-4ab36e4efa19",
   "metadata": {},
   "outputs": [
    {
     "name": "stdout",
     "output_type": "stream",
     "text": [
      "64\n"
     ]
    }
   ],
   "source": [
    "x = pow(4, 3)\n",
    "\n",
    "print(x)"
   ]
  },
  {
   "cell_type": "code",
   "execution_count": 6,
   "id": "e42034cc-1f40-40df-8ba9-b00ae3e73c84",
   "metadata": {},
   "outputs": [],
   "source": [
    "import math "
   ]
  },
  {
   "cell_type": "code",
   "execution_count": 7,
   "id": "ba7817ae-92be-4479-9ece-a34649d6cb96",
   "metadata": {},
   "outputs": [
    {
     "name": "stdout",
     "output_type": "stream",
     "text": [
      "8.0\n"
     ]
    }
   ],
   "source": [
    "import math\n",
    "\n",
    "x = math.sqrt(64)\n",
    "\n",
    "print(x)"
   ]
  },
  {
   "cell_type": "code",
   "execution_count": 8,
   "id": "0a0674b9-7331-42e6-a2e6-ea876ca4d9ed",
   "metadata": {},
   "outputs": [
    {
     "name": "stdout",
     "output_type": "stream",
     "text": [
      "2\n",
      "1\n"
     ]
    }
   ],
   "source": [
    "import math\n",
    "\n",
    "x = math.ceil(1.4)\n",
    "y = math.floor(1.4)\n",
    "\n",
    "print(x) # returns 2\n",
    "print(y) # returns 1 "
   ]
  },
  {
   "cell_type": "code",
   "execution_count": 9,
   "id": "b1750533-ee2d-4757-a73d-44f92d5728fd",
   "metadata": {},
   "outputs": [
    {
     "name": "stdout",
     "output_type": "stream",
     "text": [
      "3.141592653589793\n"
     ]
    }
   ],
   "source": [
    "import math\n",
    "\n",
    "x = math.pi\n",
    "\n",
    "print(x)"
   ]
  },
  {
   "cell_type": "markdown",
   "id": "a634a810-2986-47d5-a15f-8b153958611e",
   "metadata": {},
   "source": [
    "# Muc 2"
   ]
  },
  {
   "cell_type": "code",
   "execution_count": 10,
   "id": "de268ce7-ae65-4e59-89fe-7f9791b875f2",
   "metadata": {},
   "outputs": [
    {
     "name": "stdout",
     "output_type": "stream",
     "text": [
      "1\n",
      "2\n",
      "3\n",
      "4\n",
      "5\n"
     ]
    }
   ],
   "source": [
    "i = 1\n",
    "while i < 6:\n",
    "  print(i)\n",
    "  i += 1"
   ]
  },
  {
   "cell_type": "code",
   "execution_count": 11,
   "id": "e2a00865-e4c0-41d9-afce-c367e78db529",
   "metadata": {},
   "outputs": [
    {
     "name": "stdout",
     "output_type": "stream",
     "text": [
      "1\n",
      "2\n",
      "3\n"
     ]
    }
   ],
   "source": [
    "i = 1\n",
    "while i < 6:\n",
    "  print(i)\n",
    "  if i == 3:\n",
    "    break\n",
    "  i += 1 "
   ]
  },
  {
   "cell_type": "code",
   "execution_count": 12,
   "id": "cd7b54f4-5cbe-4e06-978b-cc9ffea7b68e",
   "metadata": {},
   "outputs": [
    {
     "name": "stdout",
     "output_type": "stream",
     "text": [
      "1\n",
      "2\n",
      "4\n",
      "5\n",
      "6\n"
     ]
    }
   ],
   "source": [
    "i = 0\n",
    "while i < 6:\n",
    "  i += 1\n",
    "  if i == 3:\n",
    "    continue\n",
    "  print(i)"
   ]
  },
  {
   "cell_type": "code",
   "execution_count": 13,
   "id": "6e1dc387-f6fd-45cf-8b70-a7a630749dc2",
   "metadata": {},
   "outputs": [
    {
     "name": "stdout",
     "output_type": "stream",
     "text": [
      "1\n",
      "2\n",
      "3\n",
      "4\n",
      "5\n",
      "i is no longer less than 6\n"
     ]
    }
   ],
   "source": [
    "i = 1\n",
    "while i < 6:\n",
    "  print(i)\n",
    "  i += 1\n",
    "else:\n",
    "  print(\"i is no longer less than 6\")"
   ]
  },
  {
   "cell_type": "markdown",
   "id": "e6af509a-31bd-40d2-875a-05693fde6a82",
   "metadata": {},
   "source": [
    "# Muc 3"
   ]
  },
  {
   "cell_type": "code",
   "execution_count": 14,
   "id": "5a73f033-fd3f-4506-856b-39e3a65afb6b",
   "metadata": {},
   "outputs": [],
   "source": [
    "cars = [\"Ford\", \"Volvo\", \"BMW\"]"
   ]
  },
  {
   "cell_type": "code",
   "execution_count": 15,
   "id": "bdb8faff-045b-42ab-9ba4-001d61e3ec6e",
   "metadata": {},
   "outputs": [],
   "source": [
    "car1 = \"Ford\"\n",
    "car2 = \"Volvo\"\n",
    "car3 = \"BMW\""
   ]
  },
  {
   "cell_type": "code",
   "execution_count": 16,
   "id": "02ea5661-9b79-4b4d-990c-5d7c1b6699b6",
   "metadata": {},
   "outputs": [],
   "source": [
    "x = cars[0]"
   ]
  },
  {
   "cell_type": "code",
   "execution_count": 17,
   "id": "25ae7f69-4304-438c-ae72-baa0c32d9d69",
   "metadata": {},
   "outputs": [],
   "source": [
    "cars[0] = \"Toyota\""
   ]
  },
  {
   "cell_type": "code",
   "execution_count": null,
   "id": "a5f12abd-a2f4-4925-849f-943c468b4c30",
   "metadata": {},
   "outputs": [],
   "source": []
  }
 ],
 "metadata": {
  "kernelspec": {
   "display_name": "Python 3 (ipykernel)",
   "language": "python",
   "name": "python3"
  },
  "language_info": {
   "codemirror_mode": {
    "name": "ipython",
    "version": 3
   },
   "file_extension": ".py",
   "mimetype": "text/x-python",
   "name": "python",
   "nbconvert_exporter": "python",
   "pygments_lexer": "ipython3",
   "version": "3.12.7"
  }
 },
 "nbformat": 4,
 "nbformat_minor": 5
}
