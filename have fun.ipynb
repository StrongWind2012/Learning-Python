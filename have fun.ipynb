{
 "cells": [
  {
   "cell_type": "code",
   "execution_count": 1,
   "id": "d7afbc4d-d5e6-4dae-a3ff-04ad1c087f53",
   "metadata": {},
   "outputs": [
    {
     "data": {
      "text/plain": [
       "2"
      ]
     },
     "execution_count": 1,
     "metadata": {},
     "output_type": "execute_result"
    }
   ],
   "source": [
    "1+1"
   ]
  },
  {
   "cell_type": "code",
   "execution_count": 2,
   "id": "ceb99778-8b70-4c2d-9067-6e46dc3729c6",
   "metadata": {},
   "outputs": [],
   "source": [
    "a=\"nam\""
   ]
  },
  {
   "cell_type": "code",
   "execution_count": 3,
   "id": "91aaed9d-65d1-41cf-818c-5744aa6b625b",
   "metadata": {},
   "outputs": [],
   "source": [
    "b=\"phong\""
   ]
  },
  {
   "cell_type": "code",
   "execution_count": 4,
   "id": "4f56823d-5104-41f5-84b9-1b8180cdfc07",
   "metadata": {},
   "outputs": [
    {
     "data": {
      "text/plain": [
       "'NAMPHONG'"
      ]
     },
     "execution_count": 4,
     "metadata": {},
     "output_type": "execute_result"
    }
   ],
   "source": [
    "(a+b).upper()"
   ]
  },
  {
   "cell_type": "code",
   "execution_count": 6,
   "id": "7de01b64-7074-4420-981c-b96c1988cd0f",
   "metadata": {},
   "outputs": [
    {
     "data": {
      "text/plain": [
       "int"
      ]
     },
     "execution_count": 6,
     "metadata": {},
     "output_type": "execute_result"
    }
   ],
   "source": [
    "type (1)"
   ]
  },
  {
   "cell_type": "code",
   "execution_count": 7,
   "id": "9673f76d-3b0a-4b78-8e3e-ec38896c0f85",
   "metadata": {},
   "outputs": [
    {
     "data": {
      "text/plain": [
       "float"
      ]
     },
     "execution_count": 7,
     "metadata": {},
     "output_type": "execute_result"
    }
   ],
   "source": [
    "type (1.0)"
   ]
  },
  {
   "cell_type": "code",
   "execution_count": 8,
   "id": "06858e72-4e3c-4013-a5f8-60f3094dd211",
   "metadata": {},
   "outputs": [
    {
     "data": {
      "text/plain": [
       "False"
      ]
     },
     "execution_count": 8,
     "metadata": {},
     "output_type": "execute_result"
    }
   ],
   "source": [
    "1+1==1+10"
   ]
  },
  {
   "cell_type": "code",
   "execution_count": 9,
   "id": "e9cefb88-0369-4846-95a6-d8cee2f135e0",
   "metadata": {},
   "outputs": [
    {
     "data": {
      "text/plain": [
       "True"
      ]
     },
     "execution_count": 9,
     "metadata": {},
     "output_type": "execute_result"
    }
   ],
   "source": [
    "2*5==9+1"
   ]
  },
  {
   "cell_type": "code",
   "execution_count": 10,
   "id": "778d564e-69f4-43ed-95f5-4b4ff7583944",
   "metadata": {},
   "outputs": [
    {
     "data": {
      "text/plain": [
       "0"
      ]
     },
     "execution_count": 10,
     "metadata": {},
     "output_type": "execute_result"
    }
   ],
   "source": [
    "2-3 % 3-2"
   ]
  },
  {
   "cell_type": "code",
   "execution_count": 11,
   "id": "aaa19732-19ba-4d32-a24f-a258b3bf47f6",
   "metadata": {},
   "outputs": [
    {
     "data": {
      "text/plain": [
       "4"
      ]
     },
     "execution_count": 11,
     "metadata": {},
     "output_type": "execute_result"
    }
   ],
   "source": [
    "1-6+8-(1-2)"
   ]
  },
  {
   "cell_type": "code",
   "execution_count": 14,
   "id": "e40f86d2-1734-440c-b50a-7f6de47dbc14",
   "metadata": {},
   "outputs": [
    {
     "data": {
      "text/plain": [
       "str"
      ]
     },
     "execution_count": 14,
     "metadata": {},
     "output_type": "execute_result"
    }
   ],
   "source": [
    "type(\"1\")"
   ]
  },
  {
   "cell_type": "code",
   "execution_count": null,
   "id": "40574d53-ef80-4071-924b-e77373631efd",
   "metadata": {},
   "outputs": [],
   "source": []
  }
 ],
 "metadata": {
  "kernelspec": {
   "display_name": "Python 3 (ipykernel)",
   "language": "python",
   "name": "python3"
  },
  "language_info": {
   "codemirror_mode": {
    "name": "ipython",
    "version": 3
   },
   "file_extension": ".py",
   "mimetype": "text/x-python",
   "name": "python",
   "nbconvert_exporter": "python",
   "pygments_lexer": "ipython3",
   "version": "3.12.7"
  }
 },
 "nbformat": 4,
 "nbformat_minor": 5
}
