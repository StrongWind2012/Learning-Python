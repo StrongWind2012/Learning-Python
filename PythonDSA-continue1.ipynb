{
 "cells": [
  {
   "cell_type": "markdown",
   "id": "1cc55baf-ddd6-4f78-91de-e04af817c283",
   "metadata": {},
   "source": [
    "# Queues with Python"
   ]
  },
  {
   "cell_type": "markdown",
   "id": "c5954aac-ff94-4e7c-906c-4acdb3d39d38",
   "metadata": {},
   "source": [
    "## 4.Queues\n",
    "\n",
    "Think of a queue as people standing in line in a supermarket.\n",
    "\n",
    "The first person to stand in line is also the first who can pay and leave the supermarket.\n",
    "\n",
    "Basic operations we can do on a queue are:\n",
    "\n",
    "    Enqueue: Adds a new element to the queue.\n",
    "    Dequeue: Removes and returns the first (front) element from the queue.\n",
    "    Peek: Returns the first element in the queue.\n",
    "    isEmpty: Checks if the queue is empty.\n",
    "    Size: Finds the number of elements in the queue.\n",
    "\n",
    "Queues can be implemented by using arrays or linked lists.\n",
    "\n",
    "Queues can be used to implement job scheduling for an office printer, order processing for e-tickets, or to create algorithms for breadth-first search in graphs.\n",
    "\n",
    "Queues are often mentioned together with Stacks, which is a similar data structure described on the previous page.\n"
   ]
  },
  {
   "cell_type": "markdown",
   "id": "aaa5587e-326b-4f2f-9783-94f8aa61d9d7",
   "metadata": {},
   "source": [
    "## Queue Implementation using Python Lists\n",
    "\n",
    "For Python lists (and arrays), a Queue can look and behave like this:"
   ]
  },
  {
   "cell_type": "code",
   "execution_count": 1,
   "id": "52caf6f1-4d6f-4d05-adc9-0637b1b1bbbc",
   "metadata": {},
   "outputs": [],
   "source": [
    "x = [5, 6, 2, 9, 3, 8, 4, 2]"
   ]
  },
  {
   "cell_type": "markdown",
   "id": "752977ee-fce6-4a51-80f9-c3ab0dc5aa5e",
   "metadata": {},
   "source": [
    "## Since Python lists has good support for functionality needed to implement queues, we start with creating a queue and do queue operations with just a few lines:"
   ]
  },
  {
   "cell_type": "code",
   "execution_count": 2,
   "id": "ba13628e-e098-40a2-b709-47c4ea5e794f",
   "metadata": {},
   "outputs": [
    {
     "name": "stdout",
     "output_type": "stream",
     "text": [
      "Queue:  ['A', 'B', 'C']\n",
      "Peek:  A\n",
      "Dequeue:  A\n",
      "Queue after Dequeue:  ['B', 'C']\n",
      "isEmpty:  False\n",
      "Size:  2\n"
     ]
    }
   ],
   "source": [
    "queue = []\n",
    "\n",
    "# Enqueue\n",
    "queue.append('A')\n",
    "queue.append('B')\n",
    "queue.append('C')\n",
    "print(\"Queue: \", queue)\n",
    "\n",
    "# Peek\n",
    "frontElement = queue[0]\n",
    "print(\"Peek: \", frontElement)\n",
    "\n",
    "# Dequeue\n",
    "poppedElement = queue.pop(0)\n",
    "print(\"Dequeue: \", poppedElement)\n",
    "\n",
    "print(\"Queue after Dequeue: \", queue)\n",
    "\n",
    "# isEmpty\n",
    "isEmpty = not bool(queue)\n",
    "print(\"isEmpty: \", isEmpty)\n",
    "\n",
    "# Size\n",
    "print(\"Size: \", len(queue))"
   ]
  },
  {
   "cell_type": "markdown",
   "id": "5ac06649-1e56-4834-b485-1d989540b5a8",
   "metadata": {},
   "source": [
    "## Note: While using a list is simple, removing elements from the beginning (dequeue operation) requires shifting all remaining elements, making it less efficient for large queues."
   ]
  },
  {
   "cell_type": "markdown",
   "id": "a795a250-e6b4-403a-930d-975ca8a32e3d",
   "metadata": {},
   "source": [
    "## 4.1 Implementing a Queue Class"
   ]
  },
  {
   "cell_type": "markdown",
   "id": "d73da05b-9cd5-4fde-8e17-72e3609b0ca9",
   "metadata": {},
   "source": [
    "### Example"
   ]
  },
  {
   "cell_type": "code",
   "execution_count": 3,
   "id": "0537bcb5-d167-417f-8887-0b54783f67eb",
   "metadata": {},
   "outputs": [
    {
     "name": "stdout",
     "output_type": "stream",
     "text": [
      "Queue:  ['A', 'B', 'C']\n",
      "Peek:  A\n",
      "Dequeue:  A\n",
      "Queue after Dequeue:  ['B', 'C']\n",
      "isEmpty:  False\n",
      "Size:  2\n"
     ]
    }
   ],
   "source": [
    "class Queue:\n",
    "  def __init__(self):\n",
    "    self.queue = []\n",
    "    \n",
    "  def enqueue(self, element):\n",
    "    self.queue.append(element)\n",
    "\n",
    "  def dequeue(self):\n",
    "    if self.isEmpty():\n",
    "      return \"Queue is empty\"\n",
    "    return self.queue.pop(0)\n",
    "\n",
    "  def peek(self):\n",
    "    if self.isEmpty():\n",
    "      return \"Queue is empty\"\n",
    "    return self.queue[0]\n",
    "\n",
    "  def isEmpty(self):\n",
    "    return len(self.queue) == 0\n",
    "\n",
    "  def size(self):\n",
    "    return len(self.queue)\n",
    "\n",
    "# Create a queue\n",
    "myQueue = Queue()\n",
    "\n",
    "myQueue.enqueue('A')\n",
    "myQueue.enqueue('B')\n",
    "myQueue.enqueue('C')\n",
    "\n",
    "print(\"Queue: \", myQueue.queue)\n",
    "print(\"Peek: \", myQueue.peek())\n",
    "print(\"Dequeue: \", myQueue.dequeue())\n",
    "print(\"Queue after Dequeue: \", myQueue.queue)\n",
    "print(\"isEmpty: \", myQueue.isEmpty())\n",
    "print(\"Size: \", myQueue.size())"
   ]
  },
  {
   "cell_type": "markdown",
   "id": "0a28faff-3731-4ba2-8082-7362a32ccbf1",
   "metadata": {},
   "source": [
    "## 4.2 Queue Implementation using Linked Lists\n",
    "\n",
    "A linked list consists of nodes with some sort of data, and a pointer to the next node.\n",
    "A singly linked list.\n",
    "\n",
    "A big benefit with using linked lists is that nodes are stored wherever there is free space in memory, the nodes do not have to be stored contiguously right after each other like elements are stored in arrays. Another nice thing with linked lists is that when adding or removing nodes, the rest of the nodes in the list do not have to be shifted.\n",
    "\n",
    "To better understand the benefits with using arrays or linked lists to implement queues, you should check out this page that explains how arrays and linked lists are stored in memory.\n",
    "\n",
    "This is how a queue can be implemented using a linked list."
   ]
  },
  {
   "cell_type": "code",
   "execution_count": 4,
   "id": "1869f27c-be30-432e-8e3f-01e381a7f5ed",
   "metadata": {},
   "outputs": [
    {
     "name": "stdout",
     "output_type": "stream",
     "text": [
      "Queue: A -> B -> C -> \n",
      "Peek:  A\n",
      "Dequeue:  A\n",
      "Queue after Dequeue: B -> C -> \n",
      "isEmpty:  False\n",
      "Size:  2\n"
     ]
    }
   ],
   "source": [
    "class Node:\n",
    "  def __init__(self, data):\n",
    "    self.data = data\n",
    "    self.next = None\n",
    "\n",
    "class Queue:\n",
    "  def __init__(self):\n",
    "    self.front = None\n",
    "    self.rear = None\n",
    "    self.length = 0\n",
    "\n",
    "  def enqueue(self, element):\n",
    "    new_node = Node(element)\n",
    "    if self.rear is None:\n",
    "      self.front = self.rear = new_node\n",
    "      self.length += 1\n",
    "      return\n",
    "    self.rear.next = new_node\n",
    "    self.rear = new_node\n",
    "    self.length += 1\n",
    "\n",
    "  def dequeue(self):\n",
    "    if self.isEmpty():\n",
    "      return \"Queue is empty\"\n",
    "\n",
    "  def isEmpty(self):\n",
    "    return self.length == 0\n",
    "\n",
    "  def size(self):\n",
    "    return self.length\n",
    "\n",
    "  def printQueue(self):\n",
    "    temp = self.front\n",
    "    while temp:\n",
    "      print(temp.data, end=\" \")\n",
    "      temp = temp.next\n",
    "    print()\n",
    "\n",
    "  def dequeue(self):\n",
    "    if self.isEmpty():\n",
    "      return \"Queue is empty\"\n",
    "    temp = self.front\n",
    "    self.front = temp.next\n",
    "    self.length -= 1\n",
    "    if self.front is None:\n",
    "      self.rear = None\n",
    "    return temp.data\n",
    "\n",
    "  def peek(self):\n",
    "    if self.isEmpty():\n",
    "      return \"Queue is empty\"\n",
    "    return self.front.data\n",
    "\n",
    "  def isEmpty(self):\n",
    "    return self.length == 0\n",
    "\n",
    "  def size(self):\n",
    "    return self.length\n",
    "\n",
    "  def printQueue(self):\n",
    "    temp = self.front\n",
    "    while temp:\n",
    "      print(temp.data, end=\" -> \")\n",
    "      temp = temp.next\n",
    "    print()\n",
    "\n",
    "# Create a queue\n",
    "myQueue = Queue()\n",
    "\n",
    "myQueue.enqueue('A')\n",
    "myQueue.enqueue('B')\n",
    "myQueue.enqueue('C')\n",
    "\n",
    "print(\"Queue: \", end=\"\")\n",
    "myQueue.printQueue()\n",
    "print(\"Peek: \", myQueue.peek())\n",
    "print(\"Dequeue: \", myQueue.dequeue())\n",
    "print(\"Queue after Dequeue: \", end=\"\")\n",
    "myQueue.printQueue()\n",
    "print(\"isEmpty: \", myQueue.isEmpty())\n",
    "print(\"Size: \", myQueue.size())"
   ]
  },
  {
   "cell_type": "markdown",
   "id": "b60448e8-231b-49a0-b3ad-092de889548d",
   "metadata": {},
   "source": [
    "## Reasons for using linked lists to implement queues:\n",
    "\n",
    "    Dynamic size: The queue can grow and shrink dynamically, unlike with arrays.\n",
    "    No shifting: The front element of the queue can be removed (enqueue) without having to shift other elements in the memory.\n",
    "\n",
    "Reasons for not using linked lists to implement queues:\n",
    "\n",
    "    Extra memory: Each queue element must contain the address to the next element (the next linked list node).\n",
    "    Readability: The code might be harder to read and write for some because it is longer and more complex.\n"
   ]
  },
  {
   "cell_type": "markdown",
   "id": "08c20c2e-38e4-4b36-99f8-0c51022d6a04",
   "metadata": {},
   "source": [
    "## 4.3 Common Queue Applications\n",
    "\n",
    "Queues are used in many real-world scenarios:\n",
    "\n",
    "    Task scheduling in operating systems\n",
    "    Breadth-first search in graphs\n",
    "    Message queues in distributed systems\n"
   ]
  },
  {
   "cell_type": "markdown",
   "id": "5b08790a-a5eb-4997-b981-9c0787cf148d",
   "metadata": {},
   "source": [
    "## 5 Linked Lists with Python\n",
    "\n",
    "A Linked List is, as the word implies, a list where the nodes are linked together. Each node contains data and a pointer. The way they are linked together is that each node points to where in the memory the next node is placed.\n",
    "## 5.1Linked Lists\n",
    "\n",
    "A linked list consists of nodes with some sort of data, and a pointer, or link, to the next node.\n",
    "A singly linked list.\n",
    "## 5.2Linked Lists vs Arrays\n",
    "\n",
    "The easiest way to understand linked lists is perhaps by comparing linked lists with arrays.\n",
    "\n",
    "Linked lists consist of nodes, and is a linear data structure we make ourselves, unlike arrays which is an existing data structure in the programming language that we can use.\n",
    "\n",
    "Nodes in a linked list store links to other nodes, but array elements do not need to store links to other elements.\n",
    "\n",
    "Note: How linked lists and arrays are stored in memory is explained in detail on the page Linked Lists in Memory.\n",
    "\n",
    "The table below compares linked lists with arrays to give a better understanding of what linked lists are.\n",
    "\tArrays \tLinked Lists\n",
    "An existing data structure in the programming language \tYes \tNo\n",
    "Fixed size in memory \tYes \tNo\n",
    "Elements, or nodes, are stored right after each other in memory (contiguously) \tYes \tNo\n",
    "Memory usage is low\n",
    "(each node only contains data, no links to other nodes) \tYes \tNo\n",
    "Elements, or nodes, can be accessed directly (random access) \tYes \tNo\n",
    "Elements, or nodes, can be inserted or deleted in constant time, no shifting operations in memory needed. \tNo \tYes\n",
    "\n",
    "These are some key linked list properties, compared to arrays:\n",
    "\n",
    "    Linked lists are not allocated to a fixed size in memory like arrays are, so linked lists do not require to move the whole list into a larger memory space when the fixed memory space fills up, like arrays must.\n",
    "    Linked list nodes are not laid out one right after the other in memory (contiguously), so linked list nodes do not have to be shifted up or down in memory when nodes are inserted or deleted.\n",
    "    Linked list nodes require more memory to store one or more links to other nodes. Array elements do not require that much memory, because array elements do not contain links to other elements.\n",
    "    Linked list operations are usually harder to program and require more lines than similar array operations, because programming languages have better built in support for arrays.\n",
    "    We must traverse a linked list to find a node at a specific position, but with arrays we can access an element directly by writing myArray[5].\n",
    "\n",
    "## 5.3Types of Linked Lists\n",
    "\n",
    "There are three basic forms of linked lists:\n",
    "\n",
    "    Singly linked lists\n",
    "    Doubly linked lists\n",
    "    Circular linked lists\n",
    "\n",
    "A singly linked list is the simplest kind of linked lists. It takes up less space in memory because each node has only one address to the next node, like in the image below.\n",
    "A singly linked list.\n",
    "\n",
    "A doubly linked list has nodes with addresses to both the previous and the next node, like in the image below, and therefore takes up more memory. But doubly linked lists are good if you want to be able to move both up and down in the list.\n",
    "A doubly linked list.\n",
    "\n",
    "A circular linked list is like a singly or doubly linked list with the first node, the \"head\", and the last node, the \"tail\", connected.\n",
    "\n",
    "In singly or doubly linked lists, we can find the start and end of a list by just checking if the links are null. But for circular linked lists, more complex code is needed to explicitly check for start and end nodes in certain applications.\n",
    "\n",
    "Circular linked lists are good for lists you need to cycle through continuously.\n",
    "\n",
    "The image below is an example of a singly circular linked list:\n",
    "A circular singly linked list.\n",
    "\n",
    "The image below is an example of a doubly circular linked list:\n",
    "A circular doubly linked list.\n",
    "\n",
    "Note: What kind of linked list you need depends on the problem you are trying to solve.\n",
    "## 5.4Linked List Operations\n",
    "\n",
    "Basic things we can do with linked lists are:\n",
    "\n",
    "    Traversal\n",
    "    Remove a node\n",
    "    Insert a node\n",
    "    Sort\n",
    "\n",
    "For simplicity, singly linked lists will be used to explain these operations below.\n",
    "## 5.5Traversal of a Linked List\n",
    "\n",
    "Traversing a linked list means to go through the linked list by following the links from one node to the next.\n",
    "\n",
    "Traversal of linked lists is typically done to search for a specific node, and read or modify the node's content, remove the node, or insert a node right before or after that node.\n",
    "\n",
    "To traverse a singly linked list, we start with the first node in the list, the head node, and follow that node's next link, and the next node's next link and so on, until the next address is null.\n",
    "\n",
    "The code below prints out the node values as it traverses along the linked list, in the same way as the animation above."
   ]
  },
  {
   "cell_type": "code",
   "execution_count": 5,
   "id": "c04d8fa1-0610-46b5-b475-4cf3ae1096cd",
   "metadata": {},
   "outputs": [
    {
     "name": "stdout",
     "output_type": "stream",
     "text": [
      "7 -> 11 -> 3 -> 2 -> 9 -> null\n"
     ]
    }
   ],
   "source": [
    "class Node:\n",
    "  def __init__(self, data):\n",
    "    self.data = data\n",
    "    self.next = None\n",
    "\n",
    "def traverseAndPrint(head):\n",
    "  currentNode = head\n",
    "  while currentNode:\n",
    "    print(currentNode.data, end=\" -> \")\n",
    "    currentNode = currentNode.next\n",
    "  print(\"null\")\n",
    "\n",
    "node1 = Node(7)\n",
    "node2 = Node(11)\n",
    "node3 = Node(3)\n",
    "node4 = Node(2)\n",
    "node5 = Node(9)\n",
    "\n",
    "node1.next = node2\n",
    "node2.next = node3\n",
    "node3.next = node4\n",
    "node4.next = node5\n",
    "\n",
    "traverseAndPrint(node1) "
   ]
  },
  {
   "cell_type": "markdown",
   "id": "54c03db2-542c-45b5-8793-ec3563913c1b",
   "metadata": {},
   "source": [
    "## 5.6 Find The Lowest Value in a Linked List\n",
    "\n",
    "Let's find the lowest value in a singly linked list by traversing it and checking each value.\n",
    "\n",
    "Finding the lowest value in a linked list is very similar to how we found the lowest value in an array, except that we need to follow the next link to get to the next node.\n",
    "\n",
    "To find the lowest value we need to traverse the list like in the previous code. But in addition to traversing the list, we must also update the current lowest value when we find a node with a lower value.\n",
    "\n",
    "In the code below, the algorithm to find the lowest value is moved into a function called findLowestValue."
   ]
  },
  {
   "cell_type": "code",
   "execution_count": 7,
   "id": "5d7d952b-a4ef-4572-b8dc-e1bd211861a1",
   "metadata": {},
   "outputs": [
    {
     "name": "stdout",
     "output_type": "stream",
     "text": [
      "The lowest value in the linked list is: 2\n"
     ]
    }
   ],
   "source": [
    "class Node:\n",
    "  def __init__(self, data):\n",
    "    self.data = data\n",
    "    self.next = None\n",
    "\n",
    "def findLowestValue(head):\n",
    "  minValue = head.data\n",
    "  currentNode = head.next\n",
    "  while currentNode:\n",
    "    if currentNode.data < minValue:\n",
    "      minValue = currentNode.data\n",
    "    currentNode = currentNode.next\n",
    "  return minValue\n",
    "\n",
    "node1 = Node(7)\n",
    "node2 = Node(11)\n",
    "node3 = Node(3)\n",
    "node4 = Node(2)\n",
    "node5 = Node(9)\n",
    "\n",
    "node1.next = node2\n",
    "node2.next = node3\n",
    "node3.next = node4\n",
    "node4.next = node5\n",
    "\n",
    "print(\"The lowest value in the linked list is:\", findLowestValue(node1)) "
   ]
  },
  {
   "cell_type": "markdown",
   "id": "7115f5f7-d254-4779-9e40-4daafd7bb176",
   "metadata": {},
   "source": [
    "## 5.7 Delete a Node in a Linked List\n",
    "\n",
    "If you want to delete a node in a linked list, it is important to connect the nodes on each side of the node before deleting it, so that the linked list is not broken.\n",
    "\n",
    "So before deleting the node, we need to get the next pointer from the previous node, and connect the previous node to the new next node before deleting the node in between.\n",
    "\n",
    "Also, it is a good idea to first connect next pointer to the node after the node we want to delete, before we delete it. This is to avoid a 'dangling' pointer, a pointer that points to nothing, even if it is just for a brief moment.\n",
    "\n",
    "The simulation below shows the node we want to delete, and how the list must be traversed first to connect the list properly before deleting the node without breaking the linked list."
   ]
  },
  {
   "cell_type": "code",
   "execution_count": 8,
   "id": "8ee7d0c5-e119-47a8-b9dc-bb1a267be0c7",
   "metadata": {},
   "outputs": [
    {
     "name": "stdout",
     "output_type": "stream",
     "text": [
      "Before deletion:\n",
      "7 -> 11 -> 3 -> 2 -> 9 -> null\n",
      "\n",
      "After deletion:\n",
      "7 -> 11 -> 3 -> 9 -> null\n"
     ]
    }
   ],
   "source": [
    "class Node:\n",
    "  def __init__(self, data):\n",
    "    self.data = data\n",
    "    self.next = None\n",
    "\n",
    "def traverseAndPrint(head):\n",
    "  currentNode = head\n",
    "  while currentNode:\n",
    "    print(currentNode.data, end=\" -> \")\n",
    "    currentNode = currentNode.next\n",
    "  print(\"null\")\n",
    "\n",
    "def deleteSpecificNode(head, nodeToDelete):\n",
    "  if head == nodeToDelete:\n",
    "    return head.next\n",
    "\n",
    "  currentNode = head\n",
    "  while currentNode.next and currentNode.next != nodeToDelete:\n",
    "    currentNode = currentNode.next\n",
    "\n",
    "  if currentNode.next is None:\n",
    "    return head\n",
    "\n",
    "  currentNode.next = currentNode.next.next\n",
    "\n",
    "  return head\n",
    "\n",
    "node1 = Node(7)\n",
    "node2 = Node(11)\n",
    "node3 = Node(3)\n",
    "node4 = Node(2)\n",
    "node5 = Node(9)\n",
    "\n",
    "node1.next = node2\n",
    "node2.next = node3\n",
    "node3.next = node4\n",
    "node4.next = node5\n",
    "\n",
    "print(\"Before deletion:\")\n",
    "traverseAndPrint(node1)\n",
    "\n",
    "# Delete node4\n",
    "node1 = deleteSpecificNode(node1, node4)\n",
    "\n",
    "print(\"\\nAfter deletion:\")\n",
    "traverseAndPrint(node1) "
   ]
  },
  {
   "cell_type": "markdown",
   "id": "2a78596f-6c36-4e48-8426-6a1ba982ab49",
   "metadata": {},
   "source": [
    "## 5.8Insert a Node in a Linked List\n",
    "\n",
    "Inserting a node into a linked list is very similar to deleting a node, because in both cases we need to take care of the next pointers to make sure we do not break the linked list.\n",
    "\n",
    "To insert a node in a linked list we first need to create the node, and then at the position where we insert it, we need to adjust the pointers so that the previous node points to the new node, and the new node points to the correct next node.\n",
    "\n",
    "The simulation below shows how the links are adjusted when inserting a new node."
   ]
  },
  {
   "cell_type": "code",
   "execution_count": 9,
   "id": "f2fe6a98-c725-43d4-be94-c4be27063878",
   "metadata": {},
   "outputs": [
    {
     "name": "stdout",
     "output_type": "stream",
     "text": [
      "Original list:\n",
      "7 -> 3 -> 2 -> 9 -> null\n",
      "\n",
      "After insertion:\n",
      "7 -> 97 -> 3 -> 2 -> 9 -> null\n"
     ]
    }
   ],
   "source": [
    "class Node:\n",
    "  def __init__(self, data):\n",
    "    self.data = data\n",
    "    self.next = None\n",
    "\n",
    "def traverseAndPrint(head):\n",
    "  currentNode = head\n",
    "  while currentNode:\n",
    "    print(currentNode.data, end=\" -> \")\n",
    "    currentNode = currentNode.next\n",
    "  print(\"null\")\n",
    "\n",
    "def insertNodeAtPosition(head, newNode, position):\n",
    "  if position == 1:\n",
    "    newNode.next = head\n",
    "    return newNode\n",
    "\n",
    "  currentNode = head\n",
    "  for _ in range(position - 2):\n",
    "    if currentNode is None:\n",
    "      break\n",
    "    currentNode = currentNode.next\n",
    "\n",
    "  newNode.next = currentNode.next\n",
    "  currentNode.next = newNode\n",
    "  return head\n",
    "\n",
    "node1 = Node(7)\n",
    "node2 = Node(3)\n",
    "node3 = Node(2)\n",
    "node4 = Node(9)\n",
    "\n",
    "node1.next = node2\n",
    "node2.next = node3\n",
    "node3.next = node4\n",
    "\n",
    "print(\"Original list:\")\n",
    "traverseAndPrint(node1)\n",
    "\n",
    "# Insert a new node with value 97 at position 2\n",
    "newNode = Node(97)\n",
    "node1 = insertNodeAtPosition(node1, newNode, 2)\n",
    "\n",
    "print(\"\\nAfter insertion:\")\n",
    "traverseAndPrint(node1) "
   ]
  },
  {
   "cell_type": "code",
   "execution_count": null,
   "id": "9fb1db08-3c17-49eb-8a00-d915304e0c7b",
   "metadata": {},
   "outputs": [],
   "source": []
  }
 ],
 "metadata": {
  "kernelspec": {
   "display_name": "Python 3 (ipykernel)",
   "language": "python",
   "name": "python3"
  },
  "language_info": {
   "codemirror_mode": {
    "name": "ipython",
    "version": 3
   },
   "file_extension": ".py",
   "mimetype": "text/x-python",
   "name": "python",
   "nbconvert_exporter": "python",
   "pygments_lexer": "ipython3",
   "version": "3.12.7"
  }
 },
 "nbformat": 4,
 "nbformat_minor": 5
}
