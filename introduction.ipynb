{
 "cells": [
  {
   "cell_type": "code",
   "execution_count": 1,
   "id": "0bc6c44f-580d-4d32-ac44-52856c9c8d05",
   "metadata": {},
   "outputs": [
    {
     "data": {
      "text/plain": [
       "2"
      ]
     },
     "execution_count": 1,
     "metadata": {},
     "output_type": "execute_result"
    }
   ],
   "source": [
    "1+1"
   ]
  },
  {
   "cell_type": "code",
   "execution_count": 6,
   "id": "e8ea377e-c7d1-4325-b4d5-ef1e80c67b40",
   "metadata": {},
   "outputs": [],
   "source": [
    "A =\"Nam\""
   ]
  },
  {
   "cell_type": "code",
   "execution_count": 7,
   "id": "bcbb9cdf-24e0-47e7-85cb-94fe35230648",
   "metadata": {},
   "outputs": [],
   "source": [
    "B=\"Phong\""
   ]
  },
  {
   "cell_type": "code",
   "execution_count": 9,
   "id": "dd1b36c6-a7ee-46d1-b7d7-2045c6ccc7f7",
   "metadata": {},
   "outputs": [
    {
     "data": {
      "text/plain": [
       "'NamPhong'"
      ]
     },
     "execution_count": 9,
     "metadata": {},
     "output_type": "execute_result"
    }
   ],
   "source": [
    "A+B"
   ]
  },
  {
   "cell_type": "code",
   "execution_count": 10,
   "id": "ff1a7263-9cc1-4d26-b8fb-3691adf144d7",
   "metadata": {},
   "outputs": [
    {
     "data": {
      "text/plain": [
       "'NamPhongNam'"
      ]
     },
     "execution_count": 10,
     "metadata": {},
     "output_type": "execute_result"
    }
   ],
   "source": [
    "A+B+A"
   ]
  },
  {
   "cell_type": "markdown",
   "id": "3fa4e8a6-6c4d-4780-a12b-2ff3299d4fd3",
   "metadata": {},
   "source": [
    "* Item\n",
    "* Item\n",
    "* Another item\n",
    "\n",
    "or\n",
    "\n",
    "+ Item\n",
    "+ Item\n",
    "+ One more item\n",
    "\n",
    "or\n",
    "\n",
    "- Item\n",
    "- Item\n",
    "- One last item"
   ]
  },
  {
   "cell_type": "markdown",
   "id": "532128ed-1ae6-471e-a5ee-9ec7822248ee",
   "metadata": {},
   "source": [
    "- [ ] First task to complete.\n",
    "- [ ] Second task that needs done\n",
    "- [x] This task has been completed"
   ]
  },
  {
   "cell_type": "markdown",
   "id": "d13697e7-d0b2-4e28-a1cd-224a153f98cc",
   "metadata": {},
   "source": [
    "# Muc 1"
   ]
  },
  {
   "cell_type": "markdown",
   "id": "280a7ec7-1464-4adc-8bcf-5803d89c33c0",
   "metadata": {},
   "source": [
    "## Muc 1.1"
   ]
  },
  {
   "cell_type": "markdown",
   "id": "72c2b6c3-e474-4438-8486-b2d14347db6d",
   "metadata": {},
   "source": [
    "Hom nay toi hoc duoc nhieu dieu ly thu"
   ]
  },
  {
   "cell_type": "code",
   "execution_count": 14,
   "id": "63c69396-13dd-46a4-b526-56c250dc09de",
   "metadata": {},
   "outputs": [
    {
     "name": "stdout",
     "output_type": "stream",
     "text": [
      "Hello, World!\n"
     ]
    }
   ],
   "source": [
    "print(\"Hello, World!\")"
   ]
  },
  {
   "cell_type": "code",
   "execution_count": 15,
   "id": "3ca8be03-eeeb-4eb8-adb7-438700e24a7c",
   "metadata": {},
   "outputs": [
    {
     "name": "stdout",
     "output_type": "stream",
     "text": [
      "Hello,Moon!\n"
     ]
    }
   ],
   "source": [
    "print(\"Hello,Moon!\")"
   ]
  },
  {
   "cell_type": "code",
   "execution_count": 16,
   "id": "c04fefa8-6dc4-4657-bf2c-eb7a5ea80201",
   "metadata": {},
   "outputs": [
    {
     "name": "stdout",
     "output_type": "stream",
     "text": [
      "3.12.7 | packaged by Anaconda, Inc. | (main, Oct  4 2024, 13:17:27) [MSC v.1929 64 bit (AMD64)]\n"
     ]
    }
   ],
   "source": [
    "import sys\n",
    "\n",
    "print(sys.version)"
   ]
  },
  {
   "cell_type": "code",
   "execution_count": 17,
   "id": "999f8fce-16ff-4661-87e0-748c3d256ba2",
   "metadata": {},
   "outputs": [
    {
     "name": "stdout",
     "output_type": "stream",
     "text": [
      "Five is greater than two!\n"
     ]
    }
   ],
   "source": [
    "if 5 > 2:\n",
    "  print(\"Five is greater than two!\")"
   ]
  },
  {
   "cell_type": "code",
   "execution_count": 19,
   "id": "ba0b6baf-4de0-441f-8a43-3b969d2e812f",
   "metadata": {},
   "outputs": [
    {
     "name": "stdout",
     "output_type": "stream",
     "text": [
      "Six is greater than two\n"
     ]
    }
   ],
   "source": [
    "if 6 > 2:\n",
    "    print(\"Six is greater than two\")"
   ]
  },
  {
   "cell_type": "code",
   "execution_count": 20,
   "id": "426ce884-7e36-41fa-8477-84a85a7fa50c",
   "metadata": {},
   "outputs": [
    {
     "name": "stdout",
     "output_type": "stream",
     "text": [
      "Five is greater than two!\n",
      "Five is greater than two!\n"
     ]
    }
   ],
   "source": [
    "if 5 > 2:\n",
    " print(\"Five is greater than two!\") \n",
    "if 5 > 2:\n",
    "        print(\"Five is greater than two!\") "
   ]
  },
  {
   "cell_type": "code",
   "execution_count": 21,
   "id": "d4a47d7f-04c0-4220-9448-1ad1b6818188",
   "metadata": {},
   "outputs": [],
   "source": [
    "x = 5\n",
    "y = \"Hello, World!\""
   ]
  },
  {
   "cell_type": "code",
   "execution_count": 22,
   "id": "b35c6f0b-351b-4b9e-b4f9-3e7f58a0db28",
   "metadata": {},
   "outputs": [
    {
     "name": "stdout",
     "output_type": "stream",
     "text": [
      "Hello, World!\n"
     ]
    }
   ],
   "source": [
    "#This is a comment.\n",
    "print(\"Hello, World!\")"
   ]
  },
  {
   "cell_type": "code",
   "execution_count": 23,
   "id": "2ff3fd27-5ce8-458f-be2c-db77aabeabde",
   "metadata": {},
   "outputs": [
    {
     "name": "stdout",
     "output_type": "stream",
     "text": [
      "Hello, World!\n"
     ]
    }
   ],
   "source": [
    " print(\"Hello, World!\") #This is a comment "
   ]
  },
  {
   "cell_type": "code",
   "execution_count": 24,
   "id": "0721b645-c0dd-41a4-877f-a96da709658c",
   "metadata": {},
   "outputs": [
    {
     "name": "stdout",
     "output_type": "stream",
     "text": [
      "Cheers, Mate!\n"
     ]
    }
   ],
   "source": [
    "#print(\"Hello, World!\")\n",
    "print(\"Cheers, Mate!\") "
   ]
  },
  {
   "cell_type": "code",
   "execution_count": 25,
   "id": "4f222493-d71a-475e-ae57-da428c32426a",
   "metadata": {},
   "outputs": [
    {
     "name": "stdout",
     "output_type": "stream",
     "text": [
      "5\n",
      "John\n"
     ]
    }
   ],
   "source": [
    "x = 5\n",
    "y = \"John\"\n",
    "print(x)\n",
    "print(y)"
   ]
  },
  {
   "cell_type": "code",
   "execution_count": 26,
   "id": "eebe2d22-eba2-4bed-9921-42dd71d8e6db",
   "metadata": {},
   "outputs": [
    {
     "name": "stdout",
     "output_type": "stream",
     "text": [
      "Sally\n"
     ]
    }
   ],
   "source": [
    "x = 4       # x is of type int\n",
    "x = \"Sally\" # x is now of type str\n",
    "print(x)"
   ]
  },
  {
   "cell_type": "code",
   "execution_count": 27,
   "id": "2c40f7ea-5272-4393-b3b2-2f5582c5fe45",
   "metadata": {},
   "outputs": [],
   "source": [
    "x = str(3)    # x will be '3'\n",
    "y = int(3)    # y will be 3\n",
    "z = float(3)  # z will be 3.0 "
   ]
  },
  {
   "cell_type": "code",
   "execution_count": 28,
   "id": "ecf0476c-0aee-49f9-aab9-6ce44fc50f17",
   "metadata": {},
   "outputs": [],
   "source": [
    "x = str(3)    # x will be '3'\n",
    "y = int(3)    # y will be 3\n",
    "z = float(3)  # z will be 3.0 "
   ]
  },
  {
   "cell_type": "code",
   "execution_count": 29,
   "id": "f7d68312-3b49-4e80-9a65-de030eda1707",
   "metadata": {},
   "outputs": [],
   "source": [
    "x = \"John\"\n",
    "# is the same as\n",
    "x = 'John'"
   ]
  },
  {
   "cell_type": "code",
   "execution_count": 30,
   "id": "7952efb2-4dbd-40f9-831d-1504bc8f8de4",
   "metadata": {},
   "outputs": [
    {
     "name": "stdout",
     "output_type": "stream",
     "text": [
      "<class 'int'>\n",
      "<class 'str'>\n"
     ]
    }
   ],
   "source": [
    "x = 5\n",
    "y = \"John\"\n",
    "print(type(x))\n",
    "print(type(y)) "
   ]
  },
  {
   "cell_type": "code",
   "execution_count": null,
   "id": "5ee4eaa2-785b-4dcc-8314-3f5033ac8a14",
   "metadata": {},
   "outputs": [],
   "source": []
  }
 ],
 "metadata": {
  "kernelspec": {
   "display_name": "Python 3 (ipykernel)",
   "language": "python",
   "name": "python3"
  },
  "language_info": {
   "codemirror_mode": {
    "name": "ipython",
    "version": 3
   },
   "file_extension": ".py",
   "mimetype": "text/x-python",
   "name": "python",
   "nbconvert_exporter": "python",
   "pygments_lexer": "ipython3",
   "version": "3.12.7"
  }
 },
 "nbformat": 4,
 "nbformat_minor": 5
}
